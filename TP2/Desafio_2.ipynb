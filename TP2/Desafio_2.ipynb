{
 "cells": [
  {
   "metadata": {},
   "cell_type": "markdown",
   "source": "    ",
   "id": "a6a8d756f62552f7"
  },
  {
   "metadata": {},
   "cell_type": "markdown",
   "source": [
    "### Crear sus propios vectores con Gensim basado en lo visto en clase con otro dataset. \n",
    "### Probar términos de interés y explicar similitudes en el espacio de embeddings. \n",
    "### Intentar plantear y probar tests de analogías. \n",
    "### Graficar los embeddings resultantes.\n",
    "### Sacar conclusiones."
   ],
   "id": "2e9fe0c63c5d3d36"
  },
  {
   "metadata": {
    "ExecuteTime": {
     "end_time": "2025-04-03T22:09:05.895287Z",
     "start_time": "2025-04-03T22:09:05.893206Z"
    }
   },
   "cell_type": "code",
   "source": [
    "import pandas as pd\n",
    "from gensim.models import Word2Vec\n",
    "# from keras.rc.legacy.preprocessing.text import text_to_word_sequence\n",
    "# from tensorflow.keras.preprocessing.text import text_to_word_sequence\n",
    "from keras.legacy.preprocessing.text import text_to_word_sequence"
   ],
   "id": "f02354f717a5207b",
   "outputs": [],
   "execution_count": 4
  },
  {
   "metadata": {},
   "cell_type": "markdown",
   "source": [
    "### Datos\n",
    "Utilizaremos como dataset que contiene reseñas de usuarios de amazon a productos de software. (https://snap.stanford.edu/data/web-Amazon.html)"
   ],
   "id": "9b19ec224d2ed87"
  },
  {
   "metadata": {
    "ExecuteTime": {
     "end_time": "2025-04-03T22:09:09.555721Z",
     "start_time": "2025-04-03T22:09:05.914319Z"
    }
   },
   "cell_type": "code",
   "source": [
    "software_txt = pd.read_json('data/Software.json', lines=True)\n",
    "software_txt = software_txt['reviewText']"
   ],
   "id": "b21fb9acbdfa8591",
   "outputs": [],
   "execution_count": 5
  },
  {
   "metadata": {
    "ExecuteTime": {
     "end_time": "2025-04-03T22:09:09.567169Z",
     "start_time": "2025-04-03T22:09:09.561542Z"
    }
   },
   "cell_type": "code",
   "source": "software_txt[1]",
   "id": "166e3074af1992cf",
   "outputs": [
    {
     "data": {
      "text/plain": [
       "'I am really enjoying this book with the worksheets that make you review your goals, what to do when you do not make it, it reminds me  of my human sexuality classwork.'"
      ]
     },
     "execution_count": 6,
     "metadata": {},
     "output_type": "execute_result"
    }
   ],
   "execution_count": 6
  },
  {
   "metadata": {},
   "cell_type": "markdown",
   "source": "### 1 - Preprocesamiento",
   "id": "9b2d715983323e13"
  },
  {
   "metadata": {
    "ExecuteTime": {
     "end_time": "2025-04-03T22:09:20.061472Z",
     "start_time": "2025-04-03T22:09:14.092050Z"
    }
   },
   "cell_type": "code",
   "source": [
    "sequence_token = []\n",
    "\n",
    "for txt in software_txt:\n",
    "    try:\n",
    "        sequence_token.append(text_to_word_sequence(txt))\n",
    "    except Exception as e:\n",
    "        continue"
   ],
   "id": "9520db8451eec15c",
   "outputs": [],
   "execution_count": 8
  },
  {
   "metadata": {
    "ExecuteTime": {
     "end_time": "2025-04-03T22:09:23.540531Z",
     "start_time": "2025-04-03T22:09:23.538401Z"
    }
   },
   "cell_type": "code",
   "source": "print(sequence_token[1])",
   "id": "5f85e4a72eeb5ae5",
   "outputs": [
    {
     "name": "stdout",
     "output_type": "stream",
     "text": [
      "['i', 'am', 'really', 'enjoying', 'this', 'book', 'with', 'the', 'worksheets', 'that', 'make', 'you', 'review', 'your', 'goals', 'what', 'to', 'do', 'when', 'you', 'do', 'not', 'make', 'it', 'it', 'reminds', 'me', 'of', 'my', 'human', 'sexuality', 'classwork']\n"
     ]
    }
   ],
   "execution_count": 9
  },
  {
   "metadata": {
    "ExecuteTime": {
     "end_time": "2025-04-03T22:09:27.197615Z",
     "start_time": "2025-04-03T22:09:27.194283Z"
    }
   },
   "cell_type": "code",
   "source": [
    "from gensim.models.callbacks import CallbackAny2Vec\n",
    "# Durante el entrenamiento gensim por defecto no informa el \"loss\" en cada época\n",
    "# Sobrecargamos el callback para poder tener esta información\n",
    "class callback(CallbackAny2Vec):\n",
    "    \"\"\"\n",
    "    Callback to print loss after each epoch\n",
    "    \"\"\"\n",
    "    def __init__(self):\n",
    "        self.epoch = 0\n",
    "\n",
    "    def on_epoch_end(self, model):\n",
    "        loss = model.get_latest_training_loss()\n",
    "        if self.epoch == 0:\n",
    "            print('Loss after epoch {}: {}'.format(self.epoch, loss))\n",
    "        else:\n",
    "            print('Loss after epoch {}: {}'.format(self.epoch, loss- self.loss_previous_step))\n",
    "        self.epoch += 1\n",
    "        self.loss_previous_step = loss"
   ],
   "id": "63fb4c80197ccdb8",
   "outputs": [],
   "execution_count": 10
  },
  {
   "metadata": {},
   "cell_type": "markdown",
   "source": "### 2 - Crear los vectores (word2vec)",
   "id": "15a60a2aeb628401"
  },
  {
   "metadata": {
    "ExecuteTime": {
     "end_time": "2025-04-03T22:17:34.290892Z",
     "start_time": "2025-04-03T22:17:34.285249Z"
    }
   },
   "cell_type": "code",
   "source": [
    "# Crearmos el modelo generador de vectores\n",
    "# En este caso utilizaremos la estructura modelo Skipgram\n",
    "w2v_model = Word2Vec(min_count=5,    # frecuencia mínima de palabra para incluirla en el vocabulario\n",
    "                     window=2,       # cant de palabras antes y desp de la predicha\n",
    "                     vector_size=10,       # dimensionalidad de los vectores\n",
    "                     negative=15,    # cantidad de negative samples... 0 es no se usa\n",
    "                     workers=4,      # si tienen más cores pueden cambiar este valor\n",
    "                     sg=1)\n",
    "                     # alpha=0.025,\n",
    "                     # min_alpha=0.0001)"
   ],
   "id": "92f24cce0a31bbdd",
   "outputs": [],
   "execution_count": 25
  },
  {
   "metadata": {
    "ExecuteTime": {
     "end_time": "2025-04-03T22:17:38.655713Z",
     "start_time": "2025-04-03T22:17:34.878742Z"
    }
   },
   "cell_type": "code",
   "source": "w2v_model.build_vocab(sequence_token)",
   "id": "c45167f49a399dbb",
   "outputs": [],
   "execution_count": 26
  },
  {
   "metadata": {
    "ExecuteTime": {
     "end_time": "2025-04-03T22:17:38.858614Z",
     "start_time": "2025-04-03T22:17:38.856652Z"
    }
   },
   "cell_type": "code",
   "source": [
    "# Cantidad de filas/docs encontradas en el corpus\n",
    "print(\"Cantidad de docs en el corpus:\", w2v_model.corpus_count)"
   ],
   "id": "b6d0200dd68a5d6d",
   "outputs": [
    {
     "name": "stdout",
     "output_type": "stream",
     "text": [
      "Cantidad de docs en el corpus: 459370\n"
     ]
    }
   ],
   "execution_count": 27
  },
  {
   "metadata": {
    "ExecuteTime": {
     "end_time": "2025-04-03T22:17:39.376991Z",
     "start_time": "2025-04-03T22:17:39.374132Z"
    }
   },
   "cell_type": "code",
   "source": [
    "# Cantidad de words encontradas en el corpus\n",
    "print(\"Cantidad de words distintas en el corpus:\", len(w2v_model.wv.index_to_key))"
   ],
   "id": "9a763486b73f4ada",
   "outputs": [
    {
     "name": "stdout",
     "output_type": "stream",
     "text": [
      "Cantidad de words distintas en el corpus: 39347\n"
     ]
    }
   ],
   "execution_count": 28
  },
  {
   "metadata": {},
   "cell_type": "markdown",
   "source": "### 3 - Entrenar embeddings",
   "id": "96f041d97e0ea1e9"
  },
  {
   "metadata": {
    "ExecuteTime": {
     "end_time": "2025-04-03T22:26:01.002545Z",
     "start_time": "2025-04-03T22:17:41.186887Z"
    }
   },
   "cell_type": "code",
   "source": [
    "# Entrenamos el modelo generador de vectores\n",
    "# Utilizamos nuestro callback\n",
    "w2v_model.train(sequence_token,\n",
    "                 total_examples=w2v_model.corpus_count,\n",
    "                 epochs=15,\n",
    "                 compute_loss = True,\n",
    "                 callbacks=[callback()]\n",
    "                 )"
   ],
   "id": "44ee1f053799faa2",
   "outputs": [
    {
     "name": "stdout",
     "output_type": "stream",
     "text": [
      "Loss after epoch 0: 49192476.0\n",
      "Loss after epoch 1: 22495276.0\n",
      "Loss after epoch 2: 7025384.0\n",
      "Loss after epoch 3: 6971984.0\n",
      "Loss after epoch 4: 6928584.0\n",
      "Loss after epoch 5: 6813208.0\n",
      "Loss after epoch 6: 6801208.0\n",
      "Loss after epoch 7: 6745992.0\n",
      "Loss after epoch 8: 6707840.0\n",
      "Loss after epoch 9: 6650904.0\n",
      "Loss after epoch 10: 6571560.0\n",
      "Loss after epoch 11: 1313312.0\n",
      "Loss after epoch 12: 0.0\n",
      "Loss after epoch 13: 0.0\n",
      "Loss after epoch 14: 0.0\n"
     ]
    },
    {
     "data": {
      "text/plain": [
       "(404837506, 540308520)"
      ]
     },
     "execution_count": 29,
     "metadata": {},
     "output_type": "execute_result"
    }
   ],
   "execution_count": 29
  },
  {
   "metadata": {
    "ExecuteTime": {
     "end_time": "2025-04-03T22:29:28.431597Z",
     "start_time": "2025-04-03T22:29:28.408461Z"
    }
   },
   "cell_type": "code",
   "source": "w2v_model.save('model/software_model.pkl')",
   "id": "f1693a529b2d7137",
   "outputs": [],
   "execution_count": 36
  },
  {
   "metadata": {
    "ExecuteTime": {
     "end_time": "2025-04-03T22:09:10.950729368Z",
     "start_time": "2025-03-27T22:34:06.718157Z"
    }
   },
   "cell_type": "code",
   "source": "w2v_model = Word2Vec.load('model/software_model.pkl')",
   "id": "f34ec2cee3901501",
   "outputs": [],
   "execution_count": 118
  },
  {
   "metadata": {},
   "cell_type": "markdown",
   "source": "### 4 - Ensayar",
   "id": "4a6d978f76a4f023"
  },
  {
   "metadata": {
    "ExecuteTime": {
     "end_time": "2025-04-03T22:26:11.607048Z",
     "start_time": "2025-04-03T22:26:11.602019Z"
    }
   },
   "cell_type": "code",
   "source": [
    "# Palabras que MÁS se relacionan con...:\n",
    "w2v_model.wv.most_similar(positive=['great'], topn=5)"
   ],
   "id": "4c0dbd7eabc83f5c",
   "outputs": [
    {
     "data": {
      "text/plain": [
       "[('wonderfull', 0.9832247495651245),\n",
       " ('fantastic', 0.9801145195960999),\n",
       " ('geat', 0.974557101726532),\n",
       " ('terrific', 0.9732329845428467),\n",
       " ('gr8', 0.9693342447280884)]"
      ]
     },
     "execution_count": 30,
     "metadata": {},
     "output_type": "execute_result"
    }
   ],
   "execution_count": 30
  },
  {
   "metadata": {},
   "cell_type": "markdown",
   "source": "Como se puede observar, buscamos las palabras más similares a 'great', obteniendo palabras tales como 'fantastic', 'terrific', 'wonderfull', etc, lo que significda que agrupa palabras que tienen significados positivos similares en las reviews. Este resultado nos indica que el modelo aprendió patrones linguistico de los corpus.",
   "id": "d7a7b0be5b5fdcfd"
  },
  {
   "metadata": {
    "ExecuteTime": {
     "end_time": "2025-04-03T22:26:15.102726Z",
     "start_time": "2025-04-03T22:26:15.098644Z"
    }
   },
   "cell_type": "code",
   "source": [
    "# Palabras que MÁS se relacionan con...:\n",
    "w2v_model.wv.most_similar(positive=['green'], topn=5)"
   ],
   "id": "ff7cf15f0146fb83",
   "outputs": [
    {
     "data": {
      "text/plain": [
       "[('yellow', 0.9887784719467163),\n",
       " ('white', 0.9818674325942993),\n",
       " ('bubble', 0.9814797043800354),\n",
       " ('grey', 0.9793028831481934),\n",
       " ('purple', 0.9727424383163452)]"
      ]
     },
     "execution_count": 31,
     "metadata": {},
     "output_type": "execute_result"
    }
   ],
   "execution_count": 31
  },
  {
   "metadata": {},
   "cell_type": "markdown",
   "source": "De los resultados de obtener las palabras más similares a 'green' observamos que agrupas palabras que describen colores.",
   "id": "a8765dce42cc1dc3"
  },
  {
   "metadata": {
    "ExecuteTime": {
     "end_time": "2025-04-03T22:26:17.203336Z",
     "start_time": "2025-04-03T22:26:17.199686Z"
    }
   },
   "cell_type": "code",
   "source": "w2v_model.wv.similarity('software', 'application')",
   "id": "5ec3fce0f700880d",
   "outputs": [
    {
     "data": {
      "text/plain": [
       "0.8697883"
      ]
     },
     "execution_count": 32,
     "metadata": {},
     "output_type": "execute_result"
    }
   ],
   "execution_count": 32
  },
  {
   "metadata": {},
   "cell_type": "markdown",
   "source": "Observando similitudes entre palabras",
   "id": "966ca895db20ecf5"
  },
  {
   "metadata": {
    "ExecuteTime": {
     "end_time": "2025-04-03T22:26:19.166101Z",
     "start_time": "2025-04-03T22:26:19.162905Z"
    }
   },
   "cell_type": "code",
   "source": "w2v_model.wv.similarity('price', 'discount')",
   "id": "939f432aa8bc118a",
   "outputs": [
    {
     "data": {
      "text/plain": [
       "0.9171343"
      ]
     },
     "execution_count": 33,
     "metadata": {},
     "output_type": "execute_result"
    }
   ],
   "execution_count": 33
  },
  {
   "metadata": {},
   "cell_type": "markdown",
   "source": "El valor de similitud 0.912 indica que el modelo ha capturado bien las relaciones semánticas en las reviews. Esto tiene mucho sentido, ya que en el contexto de reviews de productos, es común que las palabras relacionadas con precios y descuentos aparezcan juntas en frases.",
   "id": "f53578f08f18dba9"
  },
  {
   "metadata": {},
   "cell_type": "markdown",
   "source": "##### Pruebas de analogía",
   "id": "adc192eb1dd7a601"
  },
  {
   "metadata": {
    "ExecuteTime": {
     "end_time": "2025-04-03T22:26:21.324672Z",
     "start_time": "2025-04-03T22:26:21.319389Z"
    }
   },
   "cell_type": "code",
   "source": [
    "tests = [\n",
    "    (\"good\", \"excellent\", \"bad\"),  \n",
    "    (\"product\", \"quality\", \"price\"),\n",
    "    (\"user\", \"password\", 'license')\n",
    "]\n",
    "\n",
    "for a, b, c in tests:\n",
    "    if all(word in w2v_model.wv for word in [a, b, c]):\n",
    "        result = w2v_model.wv.most_similar(positive=[b, c], negative=[a])\n",
    "        print(f\"{a} -> {b} :: {c} -> {result[0][0]}\")\n",
    "    else:\n",
    "        print(f\"Uno o más términos ({a}, {b}, {c}) no están en el vocabulario.\")"
   ],
   "id": "af1b7130979750d7",
   "outputs": [
    {
     "name": "stdout",
     "output_type": "stream",
     "text": [
      "good -> excellent :: bad -> horrendous\n",
      "product -> quality :: price -> ratio\n",
      "user -> password :: license -> keycode\n"
     ]
    }
   ],
   "execution_count": 34
  },
  {
   "metadata": {},
   "cell_type": "markdown",
   "source": [
    "- El modelo identifica que \"excellent\" es un superlativo de \"good\", una relación positiva. Para el término \"bad\", el modelo sugiere \"horrendous\", que intensifica negativamente el significado de \"bad\". Esto indica que el modelo está capturando la estructura de intensificación semántica.\n",
    "- Acá la relación no es tan clara. \"Product\" tiene calidad, pero \"Price\" no tiene \"ratio\" de la misma manera.\n",
    "- En el tercer caso, el modelo ha devuelto una relación bastante acertada, ya que un usuario accede con una contraseña y una licencia se asocia con un código de activación (keycode).\n",
    "\n",
    "#### Podemos concluir que el modelo aprendió correctamente las conexiones entre estas palabras. "
   ],
   "id": "31defef299879638"
  },
  {
   "metadata": {},
   "cell_type": "markdown",
   "source": "### 5 - Visualizar agrupación de vectores",
   "id": "74ab3bff44bc83c5"
  },
  {
   "metadata": {
    "ExecuteTime": {
     "end_time": "2025-04-03T22:29:33.648581Z",
     "start_time": "2025-04-03T22:29:33.646002Z"
    }
   },
   "cell_type": "code",
   "source": [
    "from sklearn.decomposition import IncrementalPCA\n",
    "from sklearn.manifold import TSNE\n",
    "import numpy as np\n",
    "\n",
    "def reduce_dimensions(model, num_dimensions = 2 ):\n",
    "\n",
    "    vectors = np.asarray(model.wv.vectors)\n",
    "    labels = np.asarray(model.wv.index_to_key)\n",
    "\n",
    "    tsne = TSNE(n_components=num_dimensions, random_state=0)\n",
    "    vectors = tsne.fit_transform(vectors)\n",
    "\n",
    "    return vectors, labels"
   ],
   "id": "3dfeec674f218079",
   "outputs": [],
   "execution_count": 37
  },
  {
   "metadata": {
    "ExecuteTime": {
     "end_time": "2025-04-03T22:33:13.888941Z",
     "start_time": "2025-04-03T22:31:49.318219Z"
    }
   },
   "cell_type": "code",
   "source": [
    "# Graficar los embedddings en 2D\n",
    "import plotly.graph_objects as go\n",
    "import plotly.express as px\n",
    "\n",
    "vecs, labels = reduce_dimensions(w2v_model)\n",
    "\n",
    "MAX_WORDS=400\n",
    "fig = px.scatter(x=vecs[:MAX_WORDS,0], y=vecs[:MAX_WORDS,1], text=labels[:MAX_WORDS])\n",
    "fig.show()"
   ],
   "id": "cc2edb19a8a3938e",
   "outputs": [
    {
     "data": {
      "application/vnd.plotly.v1+json": {
       "data": [
        {
         "hovertemplate": "x=%{x}<br>y=%{y}<br>text=%{text}<extra></extra>",
         "legendgroup": "",
         "marker": {
          "color": "#636efa",
          "symbol": "circle"
         },
         "mode": "markers+text",
         "name": "",
         "orientation": "v",
         "showlegend": false,
         "text": [
          "the",
          "to",
          "i",
          "and",
          "a",
          "it",
          "of",
          "is",
          "for",
          "this",
          "you",
          "that",
          "my",
          "in",
          "with",
          "have",
          "on",
          "not",
          "was",
          "but",
          "as",
          "software",
          "be",
          "so",
          "are",
          "product",
          "if",
          "use",
          "all",
          "from",
          "program",
          "or",
          "me",
          "had",
          "your",
          "they",
          "can",
          "do",
          "an",
          "will",
          "version",
          "very",
          "no",
          "at",
          "one",
          "get",
          "just",
          "would",
          "up",
          "has",
          "time",
          "like",
          "windows",
          "when",
          "more",
          "computer",
          "there",
          "great",
          "what",
          "out",
          "been",
          "work",
          "good",
          "used",
          "new",
          "only",
          "years",
          "using",
          "it's",
          "easy",
          "some",
          "which",
          "than",
          "other",
          "about",
          "after",
          "don't",
          "am",
          "now",
          "by",
          "their",
          "any",
          "then",
          "well",
          "even",
          "does",
          "also",
          "because",
          "much",
          "year",
          "them",
          "did",
          "support",
          "quicken",
          "i've",
          "i'm",
          "works",
          "really",
          "need",
          "many",
          "could",
          "how",
          "install",
          "back",
          "tax",
          "still",
          "over",
          "way",
          "we",
          "want",
          "buy",
          "better",
          "download",
          "money",
          "problem",
          "first",
          "find",
          "make",
          "mac",
          "since",
          "system",
          "2",
          "go",
          "user",
          "upgrade",
          "were",
          "amazon",
          "problems",
          "1",
          "price",
          "old",
          "pc",
          "3",
          "never",
          "norton",
          "microsoft",
          "into",
          "bought",
          "got",
          "file",
          "7",
          "help",
          "its",
          "free",
          "again",
          "able",
          "most",
          "know",
          "before",
          "10",
          "found",
          "features",
          "same",
          "installed",
          "every",
          "tried",
          "5",
          "who",
          "without",
          "can't",
          "office",
          "too",
          "8",
          "love",
          "best",
          "recommend",
          "through",
          "lot",
          "files",
          "should",
          "another",
          "data",
          "see",
          "update",
          "few",
          "programs",
          "didn't",
          "game",
          "two",
          "think",
          "doesn't",
          "worked",
          "video",
          "purchased",
          "turbotax",
          "far",
          "everything",
          "home",
          "run",
          "little",
          "try",
          "however",
          "things",
          "these",
          "while",
          "down",
          "business",
          "always",
          "4",
          "purchase",
          "online",
          "hard",
          "say",
          "several",
          "different",
          "off",
          "drive",
          "going",
          "customer",
          "right",
          "word",
          "something",
          "xp",
          "having",
          "last",
          "where",
          "service",
          "internet",
          "people",
          "pro",
          "return",
          "running",
          "made",
          "take",
          "bit",
          "our",
          "give",
          "sure",
          "security",
          "state",
          "once",
          "thing",
          "working",
          "needed",
          "fine",
          "products",
          "own",
          "trying",
          "simple",
          "each",
          "seems",
          "read",
          "may",
          "long",
          "hours",
          "being",
          "getting",
          "cd",
          "start",
          "intuit",
          "information",
          "both",
          "issues",
          "learn",
          "versions",
          "why",
          "screen",
          "he",
          "those",
          "though",
          "keep",
          "times",
          "learning",
          "ever",
          "taxes",
          "etc",
          "worth",
          "laptop",
          "reviews",
          "done",
          "turbo",
          "set",
          "virus",
          "company",
          "feature",
          "said",
          "vista",
          "took",
          "pay",
          "review",
          "day",
          "os",
          "installation",
          "interface",
          "days",
          "less",
          "look",
          "e",
          "dvd",
          "went",
          "looking",
          "anything",
          "nothing",
          "computers",
          "available",
          "such",
          "doing",
          "makes",
          "next",
          "nice",
          "actually",
          "yet",
          "number",
          "happy",
          "wanted",
          "pretty",
          "around",
          "bad",
          "previous",
          "open",
          "put",
          "until",
          "full",
          "process",
          "already",
          "excellent",
          "won't",
          "tech",
          "users",
          "account",
          "here",
          "web",
          "finally",
          "thought",
          "updates",
          "issue",
          "cannot",
          "copy",
          "card",
          "minutes",
          "enough",
          "play",
          "key",
          "save",
          "phone",
          "music",
          "app",
          "website",
          "downloaded",
          "came",
          "6",
          "desktop",
          "job",
          "email",
          "create",
          "fast",
          "least",
          "change",
          "needs",
          "you're",
          "experience",
          "anyone",
          "add",
          "must",
          "editing",
          "r",
          "basic",
          "easier",
          "fix",
          "access",
          "error",
          "line",
          "three",
          "box",
          "past",
          "h",
          "refund",
          "ago",
          "ms",
          "block",
          "instead",
          "that's",
          "end",
          "older",
          "slow",
          "print",
          "highly",
          "started",
          "disk",
          "fun",
          "us",
          "cost",
          "package",
          "games",
          "0",
          "come",
          "she",
          "small",
          "quite",
          "let",
          "site",
          "complete",
          "probably",
          "almost",
          "tool",
          "link",
          "either",
          "order",
          "machine",
          "backup"
         ],
         "x": [
          41.25629425048828,
          13.717780113220215,
          18.816505432128906,
          39.16120910644531,
          13.381439208984375,
          19.06451988220215,
          -11.41948413848877,
          19.05888557434082,
          42.70624923706055,
          38.60415267944336,
          8.37540054321289,
          30.83841323852539,
          43.90036392211914,
          41.39528274536133,
          39.414161682128906,
          28.613521575927734,
          43.744239807128906,
          11.755731582641602,
          20.430286407470703,
          35.47154998779297,
          19.173677444458008,
          41.106231689453125,
          8.801553726196289,
          19.901853561401367,
          0.274686723947525,
          8.011282920837402,
          9.365303993225098,
          32.15552520751953,
          -4.685999393463135,
          45.084163665771484,
          23.551156997680664,
          40.02157974243164,
          11.980399131774902,
          29.029733657836914,
          24.386964797973633,
          5.8914031982421875,
          13.800483703613281,
          8.751933097839355,
          40.206016540527344,
          14.974202156066895,
          68.21934509277344,
          9.004030227661133,
          38.74903869628906,
          -14.54351806640625,
          25.040773391723633,
          5.840630531311035,
          21.358272552490234,
          15.435901641845703,
          24.54117774963379,
          42.27530288696289,
          4.256545066833496,
          27.91514015197754,
          73.12036895751953,
          27.251346588134766,
          12.56673812866211,
          35.729591369628906,
          7.276939868927002,
          20.880512237548828,
          11.306879043579102,
          -29.482755661010742,
          18.288240432739258,
          81.96646118164062,
          19.923439025878906,
          58.948455810546875,
          43.61135482788086,
          33.75712203979492,
          25.762493133544922,
          35.0578727722168,
          19.180988311767578,
          1.997076153755188,
          0.13833270967006683,
          35.218936920166016,
          13.833354949951172,
          -10.933514595031738,
          34.26704406738281,
          27.169187545776367,
          14.946344375610352,
          19.37029457092285,
          26.38022232055664,
          41.18181610107422,
          -4.2909393310546875,
          34.80440902709961,
          26.93206787109375,
          8.430158615112305,
          7.340878486633301,
          26.9661922454834,
          28.698503494262695,
          34.66734313964844,
          12.379854202270508,
          27.049327850341797,
          -1.0945411920547485,
          16.16786766052246,
          -20.178977966308594,
          61.27711868286133,
          31.13487434387207,
          19.334701538085938,
          63.82422637939453,
          13.8439359664917,
          8.616459846496582,
          -10.646459579467773,
          15.212019920349121,
          -21.246318817138672,
          82.61953735351562,
          20.086149215698242,
          35.62139892578125,
          19.751848220825195,
          36.83399963378906,
          -10.917420387268066,
          28.547807693481445,
          8.328081130981445,
          14.368298530578613,
          12.769763946533203,
          55.021541595458984,
          3.0736470222473145,
          11.26671028137207,
          25.337448120117188,
          7.1686859130859375,
          -9.402714729309082,
          70.6451416015625,
          35.91997146606445,
          66.83480072021484,
          42.48098373413086,
          0.8620067834854126,
          46.508628845214844,
          32.99922561645508,
          13.368969917297363,
          -16.817718505859375,
          40.13435745239258,
          44.35895919799805,
          26.500471115112305,
          75.69013977050781,
          70.55947875976562,
          42.529850006103516,
          29.18979263305664,
          49.81807327270508,
          49.361480712890625,
          24.296823501586914,
          32.047706604003906,
          26.240345001220703,
          61.35688400268555,
          74.54756927490234,
          -3.4904661178588867,
          20.19478416442871,
          50.7644157409668,
          18.705535888671875,
          69.63981628417969,
          6.562031269073486,
          0.8771398067474365,
          27.212631225585938,
          74.87445831298828,
          28.360219955444336,
          8.024808883666992,
          23.94843101501465,
          62.95658874511719,
          26.342267990112305,
          61.60921096801758,
          42.76639175415039,
          -31.55069923400879,
          34.732139587402344,
          14.875481605529785,
          62.3154296875,
          6.141683101654053,
          74.96056365966797,
          17.140810012817383,
          15.854537010192871,
          -27.870771408081055,
          25.67401695251465,
          -0.5143406987190247,
          60.621856689453125,
          15.386418342590332,
          26.047908782958984,
          58.557682037353516,
          0.8634579181671143,
          56.39641189575195,
          36.59698486328125,
          40.87039566040039,
          15.273494720458984,
          -84.48175048828125,
          36.7429084777832,
          7.622074127197266,
          15.719128608703613,
          64.25226593017578,
          3.0115346908569336,
          32.10750198364258,
          36.507850646972656,
          10.484458923339844,
          17.348121643066406,
          62.40595245361328,
          81.78131103515625,
          5.205559730529785,
          10.92631721496582,
          35.45969772338867,
          -18.379688262939453,
          -10.769885063171387,
          -25.06061553955078,
          24.240741729736328,
          -2.7069971561431885,
          33.20889663696289,
          42.64250564575195,
          14.888599395751953,
          42.93588638305664,
          79.042236328125,
          7.06307315826416,
          36.72195053100586,
          -10.472689628601074,
          25.703216552734375,
          81.25130462646484,
          2.6691040992736816,
          -20.29131507873535,
          -27.755117416381836,
          61.198265075683594,
          6.261447906494141,
          73.18939208984375,
          28.27542495727539,
          35.7470588684082,
          -2.0944736003875732,
          -20.106473922729492,
          54.576541900634766,
          -19.81386375427246,
          72.71160888671875,
          11.217370986938477,
          71.92436218261719,
          35.16038513183594,
          2.6812825202941895,
          15.209735870361328,
          -67.96697998046875,
          -0.614129900932312,
          6.852557182312012,
          54.97092819213867,
          10.319036483764648,
          27.070816040039062,
          11.02764892578125,
          21.66880226135254,
          21.66753578186035,
          68.66361999511719,
          45.02458190917969,
          -38.531856536865234,
          66.27391052246094,
          3.7176551818847656,
          41.79751205444336,
          19.5107479095459,
          -3.4613208770751953,
          15.417370796203613,
          -5.729597568511963,
          30.933048248291016,
          27.462026596069336,
          25.451522827148438,
          85.74886322021484,
          -46.47477722167969,
          -10.554909706115723,
          16.196990966796875,
          44.1857795715332,
          40.260169982910156,
          -72.36326599121094,
          66.33829498291016,
          11.340633392333984,
          -6.0835652351379395,
          -24.74215316772461,
          -36.9298095703125,
          20.727035522460938,
          -0.8570612072944641,
          34.55784606933594,
          -64.97835540771484,
          28.752878189086914,
          1.6491063833236694,
          39.429805755615234,
          8.178157806396484,
          89.14513397216797,
          -23.223220825195312,
          18.594552993774414,
          37.186187744140625,
          30.630475997924805,
          49.580284118652344,
          -10.165027618408203,
          51.527462005615234,
          8.303125381469727,
          73.05059051513672,
          32.52171325683594,
          10.55089282989502,
          -14.184229850769043,
          30.208356857299805,
          73.33514404296875,
          63.974796295166016,
          8.667337417602539,
          30.686670303344727,
          13.842803955078125,
          1.8257474899291992,
          7.497132778167725,
          87.09153747558594,
          60.77214050292969,
          -60.52651596069336,
          9.722854614257812,
          14.913973808288574,
          63.19095993041992,
          39.247703552246094,
          5.5435285568237305,
          -17.80478286743164,
          22.979700088500977,
          26.43674087524414,
          3.997812271118164,
          19.30269432067871,
          18.79477310180664,
          18.320173263549805,
          -36.35886764526367,
          11.305387496948242,
          8.727984428405762,
          -25.4697265625,
          13.912236213684082,
          55.19086837768555,
          55.000999450683594,
          0.8368465304374695,
          26.26226234436035,
          38.63603973388672,
          23.549957275390625,
          28.736217498779297,
          18.36249351501465,
          15.185811042785645,
          -20.9862117767334,
          45.351219177246094,
          9.05607795715332,
          8.696048736572266,
          53.13935089111328,
          27.633705139160156,
          16.361351013183594,
          59.381587982177734,
          11.27544116973877,
          14.965093612670898,
          54.14044189453125,
          34.949066162109375,
          31.34540367126465,
          -21.26567268371582,
          -47.21489334106445,
          59.177406311035156,
          52.43455123901367,
          -8.613560676574707,
          -34.70909118652344,
          53.042991638183594,
          -12.574106216430664,
          59.28692626953125,
          62.81483840942383,
          42.74595642089844,
          70.55599212646484,
          14.394424438476562,
          -11.471251487731934,
          48.32188415527344,
          13.285332679748535,
          28.011030197143555,
          46.30193328857422,
          27.335338592529297,
          8.819504737854004,
          -22.132097244262695,
          0.46222132444381714,
          53.051509857177734,
          14.797871589660645,
          -1.7899307012557983,
          -16.930017471313477,
          4.7768120765686035,
          11.250295639038086,
          57.33426284790039,
          57.50590133666992,
          59.434043884277344,
          12.810282707214355,
          36.73691940307617,
          33.414695739746094,
          35.569217681884766,
          -16.959856033325195,
          12.680983543395996,
          26.00498390197754,
          61.378360748291016,
          -16.8963623046875,
          43.12803649902344,
          8.012804985046387,
          3.938394546508789,
          73.19573974609375,
          17.394590377807617,
          52.6276741027832,
          -26.573150634765625,
          23.293376922607422,
          81.8896713256836,
          -58.74354934692383,
          -5.798275470733643,
          28.676959991455078,
          51.6931266784668,
          -62.17746353149414,
          71.71068572998047,
          5.038727760314941,
          -24.86046028137207,
          -43.193058013916016,
          8.652474403381348,
          10.889737129211426,
          -12.558804512023926,
          36.640289306640625,
          8.305093765258789,
          31.49070167541504,
          3.2446587085723877,
          -20.376150131225586,
          30.121068954467773,
          54.274696350097656,
          72.29927062988281,
          58.87174606323242
         ],
         "xaxis": "x",
         "y": [
          12.480558395385742,
          43.36404800415039,
          39.31270980834961,
          14.833949089050293,
          6.5793914794921875,
          28.913700103759766,
          -23.298442840576172,
          10.767851829528809,
          15.215213775634766,
          31.479228973388672,
          36.99777603149414,
          16.537084579467773,
          11.913379669189453,
          12.395644187927246,
          15.474267959594727,
          39.455806732177734,
          12.010623931884766,
          30.839536666870117,
          28.53731346130371,
          27.696950912475586,
          10.974254608154297,
          25.83866310119629,
          31.80499267578125,
          32.37643051147461,
          -43.99491500854492,
          47.29460906982422,
          37.621795654296875,
          -5.414266109466553,
          -13.939942359924316,
          12.78547191619873,
          16.501920700073242,
          13.566545486450195,
          37.033782958984375,
          35.8542594909668,
          -8.664066314697266,
          41.62007522583008,
          43.41874313354492,
          36.484901428222656,
          12.35267162322998,
          43.273014068603516,
          43.7940788269043,
          -59.094329833984375,
          -23.686494827270508,
          -13.204185485839844,
          29.895435333251953,
          31.00619125366211,
          32.48594665527344,
          42.592830657958984,
          -65.87908935546875,
          8.686701774597168,
          20.066757202148438,
          -7.199049949645996,
          17.304853439331055,
          31.06790542602539,
          -75.35082244873047,
          -2.6499929428100586,
          -23.463674545288086,
          9.348875999450684,
          35.13676834106445,
          -18.103042602539062,
          85.57624053955078,
          -33.21158218383789,
          10.165095329284668,
          40.764183044433594,
          12.136302947998047,
          27.180503845214844,
          86.4085922241211,
          37.871063232421875,
          11.302926063537598,
          -57.663612365722656,
          -43.95001220703125,
          16.399688720703125,
          -75.77104187011719,
          -41.070133209228516,
          43.70722198486328,
          32.24976348876953,
          42.31149673461914,
          38.07236862182617,
          41.08841323852539,
          11.906363487243652,
          62.35189437866211,
          14.047053337097168,
          30.519182205200195,
          -57.8724365234375,
          31.37394142150879,
          21.70195960998535,
          -7.440629005432129,
          28.600021362304688,
          -74.04393005371094,
          84.96814727783203,
          27.00206184387207,
          43.412601470947266,
          60.75606155395508,
          41.05158615112305,
          40.752681732177734,
          38.07670593261719,
          8.035460472106934,
          24.87666130065918,
          36.8054313659668,
          -41.200538635253906,
          43.17226028442383,
          0.8172912001609802,
          -33.33058166503906,
          41.91511154174805,
          50.545860290527344,
          32.39616012573242,
          80.53292083740234,
          -7.729715347290039,
          39.80907440185547,
          37.48102569580078,
          48.14131546020508,
          -75.30828094482422,
          13.562153816223145,
          23.34264373779297,
          -18.539819717407227,
          34.05341339111328,
          30.95172691345215,
          -5.8574628829956055,
          21.799509048461914,
          38.859458923339844,
          -32.785587310791016,
          64.1284408569336,
          25.991424560546875,
          7.253230094909668,
          51.766475677490234,
          -21.497835159301758,
          72.29344177246094,
          -33.32048416137695,
          65.31763458251953,
          61.6937255859375,
          43.1198844909668,
          7.479023456573486,
          63.9604377746582,
          40.32342529296875,
          45.22344970703125,
          37.036521911621094,
          -8.641702651977539,
          47.12063980102539,
          43.73507308959961,
          -51.20265579223633,
          20.728214263916016,
          44.43351745605469,
          -3.1096184253692627,
          30.432260513305664,
          40.40625,
          -22.89056396484375,
          -40.02345275878906,
          35.8035774230957,
          31.604270935058594,
          21.3695011138916,
          26.93735122680664,
          -44.78334045410156,
          20.377548217773438,
          16.306209564208984,
          32.62958908081055,
          15.032389640808105,
          63.73027420043945,
          32.94287872314453,
          -25.551212310791016,
          43.366580963134766,
          38.97946548461914,
          -69.44976043701172,
          21.070396423339844,
          51.10991287231445,
          7.711648941040039,
          80.37294006347656,
          9.064851760864258,
          -45.49833679199219,
          -50.339229583740234,
          42.587188720703125,
          32.92982482910156,
          -52.40866470336914,
          33.150718688964844,
          16.361587524414062,
          81.3187026977539,
          -38.111019134521484,
          43.32352066040039,
          9.913224220275879,
          81.45620727539062,
          34.61958694458008,
          43.84417724609375,
          9.163310050964355,
          -86.03050994873047,
          47.158912658691406,
          48.230525970458984,
          -67.04967498779297,
          28.953590393066406,
          32.008243560791016,
          -32.420433044433594,
          -69.37450408935547,
          39.12454605102539,
          27.713382720947266,
          -40.74055862426758,
          -41.210235595703125,
          -11.126484870910645,
          -65.86676788330078,
          67.8655014038086,
          38.52491760253906,
          63.91920471191406,
          48.11278533935547,
          50.21803665161133,
          -23.864788055419922,
          33.50616455078125,
          82.10516357421875,
          -41.245574951171875,
          8.802419662475586,
          -27.937772750854492,
          27.828401565551758,
          61.29059600830078,
          -16.032217025756836,
          -61.6094856262207,
          32.35574722290039,
          17.229867935180664,
          32.251705169677734,
          78.77291107177734,
          20.63174057006836,
          61.36626434326172,
          -33.53275680541992,
          36.88837814331055,
          39.22017288208008,
          65.67217254638672,
          15.904335021972656,
          27.34764289855957,
          23.164831161499023,
          -70.5748291015625,
          -7.246304988861084,
          37.60005187988281,
          32.04686737060547,
          46.02925109863281,
          67.2610092163086,
          30.980419158935547,
          25.999950408935547,
          23.76424789428711,
          31.693553924560547,
          13.581851959228516,
          5.410843849182129,
          -35.22270202636719,
          -18.977678298950195,
          -53.02528381347656,
          13.754107475280762,
          31.13190269470215,
          28.64371109008789,
          42.737979888916016,
          5.852556228637695,
          78.56358337402344,
          26.891733169555664,
          31.500146865844727,
          -19.757104873657227,
          -27.490140914916992,
          60.61945724487305,
          -11.881834030151367,
          11.025251388549805,
          -33.27314758300781,
          -40.1047248840332,
          39.80230712890625,
          35.1719970703125,
          -70.85486602783203,
          28.429933547973633,
          10.515588760375977,
          31.9162654876709,
          26.667068481445312,
          -33.87974548339844,
          -34.46249008178711,
          39.22456741333008,
          39.23133850097656,
          -56.39409637451172,
          19.947689056396484,
          20.58385467529297,
          37.194942474365234,
          32.925025939941406,
          48.72141647338867,
          -48.83164596557617,
          -25.20366859436035,
          60.8533935546875,
          -47.33881759643555,
          51.3980598449707,
          17.153682708740234,
          80.57583618164062,
          64.52011108398438,
          42.53956985473633,
          76.71656036376953,
          19.43737030029297,
          -29.718429565429688,
          -52.96345901489258,
          78.15808868408203,
          -75.64411926269531,
          31.133108139038086,
          79.06535339355469,
          -20.467905044555664,
          13.100187301635742,
          4.618470668792725,
          34.2901725769043,
          29.868640899658203,
          -3.5863420963287354,
          6.3239426612854,
          -37.70233154296875,
          15.152342796325684,
          14.01109790802002,
          33.124000549316406,
          -53.0189208984375,
          33.12289810180664,
          32.234439849853516,
          69.5430908203125,
          66.97119903564453,
          39.874393463134766,
          -60.40956497192383,
          -11.472366333007812,
          11.634642601013184,
          27.85120391845703,
          -63.29232406616211,
          25.31968879699707,
          44.24296188354492,
          12.735207557678223,
          -21.26882553100586,
          39.420928955078125,
          7.358852386474609,
          43.942405700683594,
          60.591819763183594,
          9.323897361755371,
          73.76045989990234,
          24.600772857666016,
          -37.37844467163086,
          43.589752197265625,
          34.990604400634766,
          -27.067867279052734,
          -18.505136489868164,
          43.74856948852539,
          13.334750175476074,
          56.256507873535156,
          77.767333984375,
          0.9046619534492493,
          -28.785213470458984,
          8.704893112182617,
          -68.43170166015625,
          52.46186828613281,
          -80.12889099121094,
          -14.662623405456543,
          63.74836349487305,
          16.83859634399414,
          11.626201629638672,
          63.6920051574707,
          7.442417621612549,
          14.195586204528809,
          66.01814270019531,
          -73.54763793945312,
          -58.71632385253906,
          80.48709106445312,
          -66.1113510131836,
          10.013542175292969,
          39.0286979675293,
          13.271427154541016,
          42.13199234008789,
          -69.0805892944336,
          42.77862548828125,
          -83.54578399658203,
          74.29887390136719,
          -43.001319885253906,
          -74.61178588867188,
          10.592100143432617,
          -39.108192443847656,
          6.221635341644287,
          -1.3993051052093506,
          81.46070098876953,
          -45.51628494262695,
          45.02790832519531,
          74.33948516845703,
          61.99587631225586,
          85.68112182617188,
          38.82600021362305,
          74.27801513671875,
          14.352360725402832,
          18.174192428588867,
          9.885818481445312,
          24.522977828979492,
          -65.15336608886719,
          -68.48403930664062,
          79.17593383789062,
          40.03718185424805,
          -24.121490478515625,
          -70.44747924804688,
          37.720314025878906,
          64.37471771240234,
          26.110639572143555,
          -37.258026123046875,
          46.47214126586914,
          29.0192928314209,
          28.430416107177734,
          29.368358612060547,
          -66.03608703613281,
          38.4914665222168,
          63.849205017089844,
          12.571062088012695,
          35.057621002197266,
          26.69800567626953,
          -52.180015563964844,
          78.64551544189453,
          15.444075584411621,
          12.434496879577637,
          16.03628921508789,
          -48.35074996948242
         ],
         "yaxis": "y",
         "type": "scatter"
        }
       ],
       "layout": {
        "template": {
         "data": {
          "histogram2dcontour": [
           {
            "type": "histogram2dcontour",
            "colorbar": {
             "outlinewidth": 0,
             "ticks": ""
            },
            "colorscale": [
             [
              0.0,
              "#0d0887"
             ],
             [
              0.1111111111111111,
              "#46039f"
             ],
             [
              0.2222222222222222,
              "#7201a8"
             ],
             [
              0.3333333333333333,
              "#9c179e"
             ],
             [
              0.4444444444444444,
              "#bd3786"
             ],
             [
              0.5555555555555556,
              "#d8576b"
             ],
             [
              0.6666666666666666,
              "#ed7953"
             ],
             [
              0.7777777777777778,
              "#fb9f3a"
             ],
             [
              0.8888888888888888,
              "#fdca26"
             ],
             [
              1.0,
              "#f0f921"
             ]
            ]
           }
          ],
          "choropleth": [
           {
            "type": "choropleth",
            "colorbar": {
             "outlinewidth": 0,
             "ticks": ""
            }
           }
          ],
          "histogram2d": [
           {
            "type": "histogram2d",
            "colorbar": {
             "outlinewidth": 0,
             "ticks": ""
            },
            "colorscale": [
             [
              0.0,
              "#0d0887"
             ],
             [
              0.1111111111111111,
              "#46039f"
             ],
             [
              0.2222222222222222,
              "#7201a8"
             ],
             [
              0.3333333333333333,
              "#9c179e"
             ],
             [
              0.4444444444444444,
              "#bd3786"
             ],
             [
              0.5555555555555556,
              "#d8576b"
             ],
             [
              0.6666666666666666,
              "#ed7953"
             ],
             [
              0.7777777777777778,
              "#fb9f3a"
             ],
             [
              0.8888888888888888,
              "#fdca26"
             ],
             [
              1.0,
              "#f0f921"
             ]
            ]
           }
          ],
          "heatmap": [
           {
            "type": "heatmap",
            "colorbar": {
             "outlinewidth": 0,
             "ticks": ""
            },
            "colorscale": [
             [
              0.0,
              "#0d0887"
             ],
             [
              0.1111111111111111,
              "#46039f"
             ],
             [
              0.2222222222222222,
              "#7201a8"
             ],
             [
              0.3333333333333333,
              "#9c179e"
             ],
             [
              0.4444444444444444,
              "#bd3786"
             ],
             [
              0.5555555555555556,
              "#d8576b"
             ],
             [
              0.6666666666666666,
              "#ed7953"
             ],
             [
              0.7777777777777778,
              "#fb9f3a"
             ],
             [
              0.8888888888888888,
              "#fdca26"
             ],
             [
              1.0,
              "#f0f921"
             ]
            ]
           }
          ],
          "heatmapgl": [
           {
            "type": "heatmapgl",
            "colorbar": {
             "outlinewidth": 0,
             "ticks": ""
            },
            "colorscale": [
             [
              0.0,
              "#0d0887"
             ],
             [
              0.1111111111111111,
              "#46039f"
             ],
             [
              0.2222222222222222,
              "#7201a8"
             ],
             [
              0.3333333333333333,
              "#9c179e"
             ],
             [
              0.4444444444444444,
              "#bd3786"
             ],
             [
              0.5555555555555556,
              "#d8576b"
             ],
             [
              0.6666666666666666,
              "#ed7953"
             ],
             [
              0.7777777777777778,
              "#fb9f3a"
             ],
             [
              0.8888888888888888,
              "#fdca26"
             ],
             [
              1.0,
              "#f0f921"
             ]
            ]
           }
          ],
          "contourcarpet": [
           {
            "type": "contourcarpet",
            "colorbar": {
             "outlinewidth": 0,
             "ticks": ""
            }
           }
          ],
          "contour": [
           {
            "type": "contour",
            "colorbar": {
             "outlinewidth": 0,
             "ticks": ""
            },
            "colorscale": [
             [
              0.0,
              "#0d0887"
             ],
             [
              0.1111111111111111,
              "#46039f"
             ],
             [
              0.2222222222222222,
              "#7201a8"
             ],
             [
              0.3333333333333333,
              "#9c179e"
             ],
             [
              0.4444444444444444,
              "#bd3786"
             ],
             [
              0.5555555555555556,
              "#d8576b"
             ],
             [
              0.6666666666666666,
              "#ed7953"
             ],
             [
              0.7777777777777778,
              "#fb9f3a"
             ],
             [
              0.8888888888888888,
              "#fdca26"
             ],
             [
              1.0,
              "#f0f921"
             ]
            ]
           }
          ],
          "surface": [
           {
            "type": "surface",
            "colorbar": {
             "outlinewidth": 0,
             "ticks": ""
            },
            "colorscale": [
             [
              0.0,
              "#0d0887"
             ],
             [
              0.1111111111111111,
              "#46039f"
             ],
             [
              0.2222222222222222,
              "#7201a8"
             ],
             [
              0.3333333333333333,
              "#9c179e"
             ],
             [
              0.4444444444444444,
              "#bd3786"
             ],
             [
              0.5555555555555556,
              "#d8576b"
             ],
             [
              0.6666666666666666,
              "#ed7953"
             ],
             [
              0.7777777777777778,
              "#fb9f3a"
             ],
             [
              0.8888888888888888,
              "#fdca26"
             ],
             [
              1.0,
              "#f0f921"
             ]
            ]
           }
          ],
          "mesh3d": [
           {
            "type": "mesh3d",
            "colorbar": {
             "outlinewidth": 0,
             "ticks": ""
            }
           }
          ],
          "scatter": [
           {
            "fillpattern": {
             "fillmode": "overlay",
             "size": 10,
             "solidity": 0.2
            },
            "type": "scatter"
           }
          ],
          "parcoords": [
           {
            "type": "parcoords",
            "line": {
             "colorbar": {
              "outlinewidth": 0,
              "ticks": ""
             }
            }
           }
          ],
          "scatterpolargl": [
           {
            "type": "scatterpolargl",
            "marker": {
             "colorbar": {
              "outlinewidth": 0,
              "ticks": ""
             }
            }
           }
          ],
          "bar": [
           {
            "error_x": {
             "color": "#2a3f5f"
            },
            "error_y": {
             "color": "#2a3f5f"
            },
            "marker": {
             "line": {
              "color": "#E5ECF6",
              "width": 0.5
             },
             "pattern": {
              "fillmode": "overlay",
              "size": 10,
              "solidity": 0.2
             }
            },
            "type": "bar"
           }
          ],
          "scattergeo": [
           {
            "type": "scattergeo",
            "marker": {
             "colorbar": {
              "outlinewidth": 0,
              "ticks": ""
             }
            }
           }
          ],
          "scatterpolar": [
           {
            "type": "scatterpolar",
            "marker": {
             "colorbar": {
              "outlinewidth": 0,
              "ticks": ""
             }
            }
           }
          ],
          "histogram": [
           {
            "marker": {
             "pattern": {
              "fillmode": "overlay",
              "size": 10,
              "solidity": 0.2
             }
            },
            "type": "histogram"
           }
          ],
          "scattergl": [
           {
            "type": "scattergl",
            "marker": {
             "colorbar": {
              "outlinewidth": 0,
              "ticks": ""
             }
            }
           }
          ],
          "scatter3d": [
           {
            "type": "scatter3d",
            "line": {
             "colorbar": {
              "outlinewidth": 0,
              "ticks": ""
             }
            },
            "marker": {
             "colorbar": {
              "outlinewidth": 0,
              "ticks": ""
             }
            }
           }
          ],
          "scattermapbox": [
           {
            "type": "scattermapbox",
            "marker": {
             "colorbar": {
              "outlinewidth": 0,
              "ticks": ""
             }
            }
           }
          ],
          "scatterternary": [
           {
            "type": "scatterternary",
            "marker": {
             "colorbar": {
              "outlinewidth": 0,
              "ticks": ""
             }
            }
           }
          ],
          "scattercarpet": [
           {
            "type": "scattercarpet",
            "marker": {
             "colorbar": {
              "outlinewidth": 0,
              "ticks": ""
             }
            }
           }
          ],
          "carpet": [
           {
            "aaxis": {
             "endlinecolor": "#2a3f5f",
             "gridcolor": "white",
             "linecolor": "white",
             "minorgridcolor": "white",
             "startlinecolor": "#2a3f5f"
            },
            "baxis": {
             "endlinecolor": "#2a3f5f",
             "gridcolor": "white",
             "linecolor": "white",
             "minorgridcolor": "white",
             "startlinecolor": "#2a3f5f"
            },
            "type": "carpet"
           }
          ],
          "table": [
           {
            "cells": {
             "fill": {
              "color": "#EBF0F8"
             },
             "line": {
              "color": "white"
             }
            },
            "header": {
             "fill": {
              "color": "#C8D4E3"
             },
             "line": {
              "color": "white"
             }
            },
            "type": "table"
           }
          ],
          "barpolar": [
           {
            "marker": {
             "line": {
              "color": "#E5ECF6",
              "width": 0.5
             },
             "pattern": {
              "fillmode": "overlay",
              "size": 10,
              "solidity": 0.2
             }
            },
            "type": "barpolar"
           }
          ],
          "pie": [
           {
            "automargin": true,
            "type": "pie"
           }
          ]
         },
         "layout": {
          "autotypenumbers": "strict",
          "colorway": [
           "#636efa",
           "#EF553B",
           "#00cc96",
           "#ab63fa",
           "#FFA15A",
           "#19d3f3",
           "#FF6692",
           "#B6E880",
           "#FF97FF",
           "#FECB52"
          ],
          "font": {
           "color": "#2a3f5f"
          },
          "hovermode": "closest",
          "hoverlabel": {
           "align": "left"
          },
          "paper_bgcolor": "white",
          "plot_bgcolor": "#E5ECF6",
          "polar": {
           "bgcolor": "#E5ECF6",
           "angularaxis": {
            "gridcolor": "white",
            "linecolor": "white",
            "ticks": ""
           },
           "radialaxis": {
            "gridcolor": "white",
            "linecolor": "white",
            "ticks": ""
           }
          },
          "ternary": {
           "bgcolor": "#E5ECF6",
           "aaxis": {
            "gridcolor": "white",
            "linecolor": "white",
            "ticks": ""
           },
           "baxis": {
            "gridcolor": "white",
            "linecolor": "white",
            "ticks": ""
           },
           "caxis": {
            "gridcolor": "white",
            "linecolor": "white",
            "ticks": ""
           }
          },
          "coloraxis": {
           "colorbar": {
            "outlinewidth": 0,
            "ticks": ""
           }
          },
          "colorscale": {
           "sequential": [
            [
             0.0,
             "#0d0887"
            ],
            [
             0.1111111111111111,
             "#46039f"
            ],
            [
             0.2222222222222222,
             "#7201a8"
            ],
            [
             0.3333333333333333,
             "#9c179e"
            ],
            [
             0.4444444444444444,
             "#bd3786"
            ],
            [
             0.5555555555555556,
             "#d8576b"
            ],
            [
             0.6666666666666666,
             "#ed7953"
            ],
            [
             0.7777777777777778,
             "#fb9f3a"
            ],
            [
             0.8888888888888888,
             "#fdca26"
            ],
            [
             1.0,
             "#f0f921"
            ]
           ],
           "sequentialminus": [
            [
             0.0,
             "#0d0887"
            ],
            [
             0.1111111111111111,
             "#46039f"
            ],
            [
             0.2222222222222222,
             "#7201a8"
            ],
            [
             0.3333333333333333,
             "#9c179e"
            ],
            [
             0.4444444444444444,
             "#bd3786"
            ],
            [
             0.5555555555555556,
             "#d8576b"
            ],
            [
             0.6666666666666666,
             "#ed7953"
            ],
            [
             0.7777777777777778,
             "#fb9f3a"
            ],
            [
             0.8888888888888888,
             "#fdca26"
            ],
            [
             1.0,
             "#f0f921"
            ]
           ],
           "diverging": [
            [
             0,
             "#8e0152"
            ],
            [
             0.1,
             "#c51b7d"
            ],
            [
             0.2,
             "#de77ae"
            ],
            [
             0.3,
             "#f1b6da"
            ],
            [
             0.4,
             "#fde0ef"
            ],
            [
             0.5,
             "#f7f7f7"
            ],
            [
             0.6,
             "#e6f5d0"
            ],
            [
             0.7,
             "#b8e186"
            ],
            [
             0.8,
             "#7fbc41"
            ],
            [
             0.9,
             "#4d9221"
            ],
            [
             1,
             "#276419"
            ]
           ]
          },
          "xaxis": {
           "gridcolor": "white",
           "linecolor": "white",
           "ticks": "",
           "title": {
            "standoff": 15
           },
           "zerolinecolor": "white",
           "automargin": true,
           "zerolinewidth": 2
          },
          "yaxis": {
           "gridcolor": "white",
           "linecolor": "white",
           "ticks": "",
           "title": {
            "standoff": 15
           },
           "zerolinecolor": "white",
           "automargin": true,
           "zerolinewidth": 2
          },
          "scene": {
           "xaxis": {
            "backgroundcolor": "#E5ECF6",
            "gridcolor": "white",
            "linecolor": "white",
            "showbackground": true,
            "ticks": "",
            "zerolinecolor": "white",
            "gridwidth": 2
           },
           "yaxis": {
            "backgroundcolor": "#E5ECF6",
            "gridcolor": "white",
            "linecolor": "white",
            "showbackground": true,
            "ticks": "",
            "zerolinecolor": "white",
            "gridwidth": 2
           },
           "zaxis": {
            "backgroundcolor": "#E5ECF6",
            "gridcolor": "white",
            "linecolor": "white",
            "showbackground": true,
            "ticks": "",
            "zerolinecolor": "white",
            "gridwidth": 2
           }
          },
          "shapedefaults": {
           "line": {
            "color": "#2a3f5f"
           }
          },
          "annotationdefaults": {
           "arrowcolor": "#2a3f5f",
           "arrowhead": 0,
           "arrowwidth": 1
          },
          "geo": {
           "bgcolor": "white",
           "landcolor": "#E5ECF6",
           "subunitcolor": "white",
           "showland": true,
           "showlakes": true,
           "lakecolor": "white"
          },
          "title": {
           "x": 0.05
          },
          "mapbox": {
           "style": "light"
          }
         }
        },
        "xaxis": {
         "anchor": "y",
         "domain": [
          0.0,
          1.0
         ],
         "title": {
          "text": "x"
         }
        },
        "yaxis": {
         "anchor": "x",
         "domain": [
          0.0,
          1.0
         ],
         "title": {
          "text": "y"
         }
        },
        "legend": {
         "tracegroupgap": 0
        },
        "margin": {
         "t": 60
        }
       },
       "config": {
        "plotlyServerURL": "https://plot.ly"
       }
      },
      "text/html": [
       "<div>                            <div id=\"b182ce00-f68b-4f4c-85d6-7f49d31a8fd3\" class=\"plotly-graph-div\" style=\"height:525px; width:100%;\"></div>            <script type=\"text/javascript\">                require([\"plotly\"], function(Plotly) {                    window.PLOTLYENV=window.PLOTLYENV || {};                                    if (document.getElementById(\"b182ce00-f68b-4f4c-85d6-7f49d31a8fd3\")) {                    Plotly.newPlot(                        \"b182ce00-f68b-4f4c-85d6-7f49d31a8fd3\",                        [{\"hovertemplate\":\"x=%{x}\\u003cbr\\u003ey=%{y}\\u003cbr\\u003etext=%{text}\\u003cextra\\u003e\\u003c\\u002fextra\\u003e\",\"legendgroup\":\"\",\"marker\":{\"color\":\"#636efa\",\"symbol\":\"circle\"},\"mode\":\"markers+text\",\"name\":\"\",\"orientation\":\"v\",\"showlegend\":false,\"text\":[\"the\",\"to\",\"i\",\"and\",\"a\",\"it\",\"of\",\"is\",\"for\",\"this\",\"you\",\"that\",\"my\",\"in\",\"with\",\"have\",\"on\",\"not\",\"was\",\"but\",\"as\",\"software\",\"be\",\"so\",\"are\",\"product\",\"if\",\"use\",\"all\",\"from\",\"program\",\"or\",\"me\",\"had\",\"your\",\"they\",\"can\",\"do\",\"an\",\"will\",\"version\",\"very\",\"no\",\"at\",\"one\",\"get\",\"just\",\"would\",\"up\",\"has\",\"time\",\"like\",\"windows\",\"when\",\"more\",\"computer\",\"there\",\"great\",\"what\",\"out\",\"been\",\"work\",\"good\",\"used\",\"new\",\"only\",\"years\",\"using\",\"it's\",\"easy\",\"some\",\"which\",\"than\",\"other\",\"about\",\"after\",\"don't\",\"am\",\"now\",\"by\",\"their\",\"any\",\"then\",\"well\",\"even\",\"does\",\"also\",\"because\",\"much\",\"year\",\"them\",\"did\",\"support\",\"quicken\",\"i've\",\"i'm\",\"works\",\"really\",\"need\",\"many\",\"could\",\"how\",\"install\",\"back\",\"tax\",\"still\",\"over\",\"way\",\"we\",\"want\",\"buy\",\"better\",\"download\",\"money\",\"problem\",\"first\",\"find\",\"make\",\"mac\",\"since\",\"system\",\"2\",\"go\",\"user\",\"upgrade\",\"were\",\"amazon\",\"problems\",\"1\",\"price\",\"old\",\"pc\",\"3\",\"never\",\"norton\",\"microsoft\",\"into\",\"bought\",\"got\",\"file\",\"7\",\"help\",\"its\",\"free\",\"again\",\"able\",\"most\",\"know\",\"before\",\"10\",\"found\",\"features\",\"same\",\"installed\",\"every\",\"tried\",\"5\",\"who\",\"without\",\"can't\",\"office\",\"too\",\"8\",\"love\",\"best\",\"recommend\",\"through\",\"lot\",\"files\",\"should\",\"another\",\"data\",\"see\",\"update\",\"few\",\"programs\",\"didn't\",\"game\",\"two\",\"think\",\"doesn't\",\"worked\",\"video\",\"purchased\",\"turbotax\",\"far\",\"everything\",\"home\",\"run\",\"little\",\"try\",\"however\",\"things\",\"these\",\"while\",\"down\",\"business\",\"always\",\"4\",\"purchase\",\"online\",\"hard\",\"say\",\"several\",\"different\",\"off\",\"drive\",\"going\",\"customer\",\"right\",\"word\",\"something\",\"xp\",\"having\",\"last\",\"where\",\"service\",\"internet\",\"people\",\"pro\",\"return\",\"running\",\"made\",\"take\",\"bit\",\"our\",\"give\",\"sure\",\"security\",\"state\",\"once\",\"thing\",\"working\",\"needed\",\"fine\",\"products\",\"own\",\"trying\",\"simple\",\"each\",\"seems\",\"read\",\"may\",\"long\",\"hours\",\"being\",\"getting\",\"cd\",\"start\",\"intuit\",\"information\",\"both\",\"issues\",\"learn\",\"versions\",\"why\",\"screen\",\"he\",\"those\",\"though\",\"keep\",\"times\",\"learning\",\"ever\",\"taxes\",\"etc\",\"worth\",\"laptop\",\"reviews\",\"done\",\"turbo\",\"set\",\"virus\",\"company\",\"feature\",\"said\",\"vista\",\"took\",\"pay\",\"review\",\"day\",\"os\",\"installation\",\"interface\",\"days\",\"less\",\"look\",\"e\",\"dvd\",\"went\",\"looking\",\"anything\",\"nothing\",\"computers\",\"available\",\"such\",\"doing\",\"makes\",\"next\",\"nice\",\"actually\",\"yet\",\"number\",\"happy\",\"wanted\",\"pretty\",\"around\",\"bad\",\"previous\",\"open\",\"put\",\"until\",\"full\",\"process\",\"already\",\"excellent\",\"won't\",\"tech\",\"users\",\"account\",\"here\",\"web\",\"finally\",\"thought\",\"updates\",\"issue\",\"cannot\",\"copy\",\"card\",\"minutes\",\"enough\",\"play\",\"key\",\"save\",\"phone\",\"music\",\"app\",\"website\",\"downloaded\",\"came\",\"6\",\"desktop\",\"job\",\"email\",\"create\",\"fast\",\"least\",\"change\",\"needs\",\"you're\",\"experience\",\"anyone\",\"add\",\"must\",\"editing\",\"r\",\"basic\",\"easier\",\"fix\",\"access\",\"error\",\"line\",\"three\",\"box\",\"past\",\"h\",\"refund\",\"ago\",\"ms\",\"block\",\"instead\",\"that's\",\"end\",\"older\",\"slow\",\"print\",\"highly\",\"started\",\"disk\",\"fun\",\"us\",\"cost\",\"package\",\"games\",\"0\",\"come\",\"she\",\"small\",\"quite\",\"let\",\"site\",\"complete\",\"probably\",\"almost\",\"tool\",\"link\",\"either\",\"order\",\"machine\",\"backup\"],\"x\":[41.25629425048828,13.717780113220215,18.816505432128906,39.16120910644531,13.381439208984375,19.06451988220215,-11.41948413848877,19.05888557434082,42.70624923706055,38.60415267944336,8.37540054321289,30.83841323852539,43.90036392211914,41.39528274536133,39.414161682128906,28.613521575927734,43.744239807128906,11.755731582641602,20.430286407470703,35.47154998779297,19.173677444458008,41.106231689453125,8.801553726196289,19.901853561401367,0.274686723947525,8.011282920837402,9.365303993225098,32.15552520751953,-4.685999393463135,45.084163665771484,23.551156997680664,40.02157974243164,11.980399131774902,29.029733657836914,24.386964797973633,5.8914031982421875,13.800483703613281,8.751933097839355,40.206016540527344,14.974202156066895,68.21934509277344,9.004030227661133,38.74903869628906,-14.54351806640625,25.040773391723633,5.840630531311035,21.358272552490234,15.435901641845703,24.54117774963379,42.27530288696289,4.256545066833496,27.91514015197754,73.12036895751953,27.251346588134766,12.56673812866211,35.729591369628906,7.276939868927002,20.880512237548828,11.306879043579102,-29.482755661010742,18.288240432739258,81.96646118164062,19.923439025878906,58.948455810546875,43.61135482788086,33.75712203979492,25.762493133544922,35.0578727722168,19.180988311767578,1.997076153755188,0.13833270967006683,35.218936920166016,13.833354949951172,-10.933514595031738,34.26704406738281,27.169187545776367,14.946344375610352,19.37029457092285,26.38022232055664,41.18181610107422,-4.2909393310546875,34.80440902709961,26.93206787109375,8.430158615112305,7.340878486633301,26.9661922454834,28.698503494262695,34.66734313964844,12.379854202270508,27.049327850341797,-1.0945411920547485,16.16786766052246,-20.178977966308594,61.27711868286133,31.13487434387207,19.334701538085938,63.82422637939453,13.8439359664917,8.616459846496582,-10.646459579467773,15.212019920349121,-21.246318817138672,82.61953735351562,20.086149215698242,35.62139892578125,19.751848220825195,36.83399963378906,-10.917420387268066,28.547807693481445,8.328081130981445,14.368298530578613,12.769763946533203,55.021541595458984,3.0736470222473145,11.26671028137207,25.337448120117188,7.1686859130859375,-9.402714729309082,70.6451416015625,35.91997146606445,66.83480072021484,42.48098373413086,0.8620067834854126,46.508628845214844,32.99922561645508,13.368969917297363,-16.817718505859375,40.13435745239258,44.35895919799805,26.500471115112305,75.69013977050781,70.55947875976562,42.529850006103516,29.18979263305664,49.81807327270508,49.361480712890625,24.296823501586914,32.047706604003906,26.240345001220703,61.35688400268555,74.54756927490234,-3.4904661178588867,20.19478416442871,50.7644157409668,18.705535888671875,69.63981628417969,6.562031269073486,0.8771398067474365,27.212631225585938,74.87445831298828,28.360219955444336,8.024808883666992,23.94843101501465,62.95658874511719,26.342267990112305,61.60921096801758,42.76639175415039,-31.55069923400879,34.732139587402344,14.875481605529785,62.3154296875,6.141683101654053,74.96056365966797,17.140810012817383,15.854537010192871,-27.870771408081055,25.67401695251465,-0.5143406987190247,60.621856689453125,15.386418342590332,26.047908782958984,58.557682037353516,0.8634579181671143,56.39641189575195,36.59698486328125,40.87039566040039,15.273494720458984,-84.48175048828125,36.7429084777832,7.622074127197266,15.719128608703613,64.25226593017578,3.0115346908569336,32.10750198364258,36.507850646972656,10.484458923339844,17.348121643066406,62.40595245361328,81.78131103515625,5.205559730529785,10.92631721496582,35.45969772338867,-18.379688262939453,-10.769885063171387,-25.06061553955078,24.240741729736328,-2.7069971561431885,33.20889663696289,42.64250564575195,14.888599395751953,42.93588638305664,79.042236328125,7.06307315826416,36.72195053100586,-10.472689628601074,25.703216552734375,81.25130462646484,2.6691040992736816,-20.29131507873535,-27.755117416381836,61.198265075683594,6.261447906494141,73.18939208984375,28.27542495727539,35.7470588684082,-2.0944736003875732,-20.106473922729492,54.576541900634766,-19.81386375427246,72.71160888671875,11.217370986938477,71.92436218261719,35.16038513183594,2.6812825202941895,15.209735870361328,-67.96697998046875,-0.614129900932312,6.852557182312012,54.97092819213867,10.319036483764648,27.070816040039062,11.02764892578125,21.66880226135254,21.66753578186035,68.66361999511719,45.02458190917969,-38.531856536865234,66.27391052246094,3.7176551818847656,41.79751205444336,19.5107479095459,-3.4613208770751953,15.417370796203613,-5.729597568511963,30.933048248291016,27.462026596069336,25.451522827148438,85.74886322021484,-46.47477722167969,-10.554909706115723,16.196990966796875,44.1857795715332,40.260169982910156,-72.36326599121094,66.33829498291016,11.340633392333984,-6.0835652351379395,-24.74215316772461,-36.9298095703125,20.727035522460938,-0.8570612072944641,34.55784606933594,-64.97835540771484,28.752878189086914,1.6491063833236694,39.429805755615234,8.178157806396484,89.14513397216797,-23.223220825195312,18.594552993774414,37.186187744140625,30.630475997924805,49.580284118652344,-10.165027618408203,51.527462005615234,8.303125381469727,73.05059051513672,32.52171325683594,10.55089282989502,-14.184229850769043,30.208356857299805,73.33514404296875,63.974796295166016,8.667337417602539,30.686670303344727,13.842803955078125,1.8257474899291992,7.497132778167725,87.09153747558594,60.77214050292969,-60.52651596069336,9.722854614257812,14.913973808288574,63.19095993041992,39.247703552246094,5.5435285568237305,-17.80478286743164,22.979700088500977,26.43674087524414,3.997812271118164,19.30269432067871,18.79477310180664,18.320173263549805,-36.35886764526367,11.305387496948242,8.727984428405762,-25.4697265625,13.912236213684082,55.19086837768555,55.000999450683594,0.8368465304374695,26.26226234436035,38.63603973388672,23.549957275390625,28.736217498779297,18.36249351501465,15.185811042785645,-20.9862117767334,45.351219177246094,9.05607795715332,8.696048736572266,53.13935089111328,27.633705139160156,16.361351013183594,59.381587982177734,11.27544116973877,14.965093612670898,54.14044189453125,34.949066162109375,31.34540367126465,-21.26567268371582,-47.21489334106445,59.177406311035156,52.43455123901367,-8.613560676574707,-34.70909118652344,53.042991638183594,-12.574106216430664,59.28692626953125,62.81483840942383,42.74595642089844,70.55599212646484,14.394424438476562,-11.471251487731934,48.32188415527344,13.285332679748535,28.011030197143555,46.30193328857422,27.335338592529297,8.819504737854004,-22.132097244262695,0.46222132444381714,53.051509857177734,14.797871589660645,-1.7899307012557983,-16.930017471313477,4.7768120765686035,11.250295639038086,57.33426284790039,57.50590133666992,59.434043884277344,12.810282707214355,36.73691940307617,33.414695739746094,35.569217681884766,-16.959856033325195,12.680983543395996,26.00498390197754,61.378360748291016,-16.8963623046875,43.12803649902344,8.012804985046387,3.938394546508789,73.19573974609375,17.394590377807617,52.6276741027832,-26.573150634765625,23.293376922607422,81.8896713256836,-58.74354934692383,-5.798275470733643,28.676959991455078,51.6931266784668,-62.17746353149414,71.71068572998047,5.038727760314941,-24.86046028137207,-43.193058013916016,8.652474403381348,10.889737129211426,-12.558804512023926,36.640289306640625,8.305093765258789,31.49070167541504,3.2446587085723877,-20.376150131225586,30.121068954467773,54.274696350097656,72.29927062988281,58.87174606323242],\"xaxis\":\"x\",\"y\":[12.480558395385742,43.36404800415039,39.31270980834961,14.833949089050293,6.5793914794921875,28.913700103759766,-23.298442840576172,10.767851829528809,15.215213775634766,31.479228973388672,36.99777603149414,16.537084579467773,11.913379669189453,12.395644187927246,15.474267959594727,39.455806732177734,12.010623931884766,30.839536666870117,28.53731346130371,27.696950912475586,10.974254608154297,25.83866310119629,31.80499267578125,32.37643051147461,-43.99491500854492,47.29460906982422,37.621795654296875,-5.414266109466553,-13.939942359924316,12.78547191619873,16.501920700073242,13.566545486450195,37.033782958984375,35.8542594909668,-8.664066314697266,41.62007522583008,43.41874313354492,36.484901428222656,12.35267162322998,43.273014068603516,43.7940788269043,-59.094329833984375,-23.686494827270508,-13.204185485839844,29.895435333251953,31.00619125366211,32.48594665527344,42.592830657958984,-65.87908935546875,8.686701774597168,20.066757202148438,-7.199049949645996,17.304853439331055,31.06790542602539,-75.35082244873047,-2.6499929428100586,-23.463674545288086,9.348875999450684,35.13676834106445,-18.103042602539062,85.57624053955078,-33.21158218383789,10.165095329284668,40.764183044433594,12.136302947998047,27.180503845214844,86.4085922241211,37.871063232421875,11.302926063537598,-57.663612365722656,-43.95001220703125,16.399688720703125,-75.77104187011719,-41.070133209228516,43.70722198486328,32.24976348876953,42.31149673461914,38.07236862182617,41.08841323852539,11.906363487243652,62.35189437866211,14.047053337097168,30.519182205200195,-57.8724365234375,31.37394142150879,21.70195960998535,-7.440629005432129,28.600021362304688,-74.04393005371094,84.96814727783203,27.00206184387207,43.412601470947266,60.75606155395508,41.05158615112305,40.752681732177734,38.07670593261719,8.035460472106934,24.87666130065918,36.8054313659668,-41.200538635253906,43.17226028442383,0.8172912001609802,-33.33058166503906,41.91511154174805,50.545860290527344,32.39616012573242,80.53292083740234,-7.729715347290039,39.80907440185547,37.48102569580078,48.14131546020508,-75.30828094482422,13.562153816223145,23.34264373779297,-18.539819717407227,34.05341339111328,30.95172691345215,-5.8574628829956055,21.799509048461914,38.859458923339844,-32.785587310791016,64.1284408569336,25.991424560546875,7.253230094909668,51.766475677490234,-21.497835159301758,72.29344177246094,-33.32048416137695,65.31763458251953,61.6937255859375,43.1198844909668,7.479023456573486,63.9604377746582,40.32342529296875,45.22344970703125,37.036521911621094,-8.641702651977539,47.12063980102539,43.73507308959961,-51.20265579223633,20.728214263916016,44.43351745605469,-3.1096184253692627,30.432260513305664,40.40625,-22.89056396484375,-40.02345275878906,35.8035774230957,31.604270935058594,21.3695011138916,26.93735122680664,-44.78334045410156,20.377548217773438,16.306209564208984,32.62958908081055,15.032389640808105,63.73027420043945,32.94287872314453,-25.551212310791016,43.366580963134766,38.97946548461914,-69.44976043701172,21.070396423339844,51.10991287231445,7.711648941040039,80.37294006347656,9.064851760864258,-45.49833679199219,-50.339229583740234,42.587188720703125,32.92982482910156,-52.40866470336914,33.150718688964844,16.361587524414062,81.3187026977539,-38.111019134521484,43.32352066040039,9.913224220275879,81.45620727539062,34.61958694458008,43.84417724609375,9.163310050964355,-86.03050994873047,47.158912658691406,48.230525970458984,-67.04967498779297,28.953590393066406,32.008243560791016,-32.420433044433594,-69.37450408935547,39.12454605102539,27.713382720947266,-40.74055862426758,-41.210235595703125,-11.126484870910645,-65.86676788330078,67.8655014038086,38.52491760253906,63.91920471191406,48.11278533935547,50.21803665161133,-23.864788055419922,33.50616455078125,82.10516357421875,-41.245574951171875,8.802419662475586,-27.937772750854492,27.828401565551758,61.29059600830078,-16.032217025756836,-61.6094856262207,32.35574722290039,17.229867935180664,32.251705169677734,78.77291107177734,20.63174057006836,61.36626434326172,-33.53275680541992,36.88837814331055,39.22017288208008,65.67217254638672,15.904335021972656,27.34764289855957,23.164831161499023,-70.5748291015625,-7.246304988861084,37.60005187988281,32.04686737060547,46.02925109863281,67.2610092163086,30.980419158935547,25.999950408935547,23.76424789428711,31.693553924560547,13.581851959228516,5.410843849182129,-35.22270202636719,-18.977678298950195,-53.02528381347656,13.754107475280762,31.13190269470215,28.64371109008789,42.737979888916016,5.852556228637695,78.56358337402344,26.891733169555664,31.500146865844727,-19.757104873657227,-27.490140914916992,60.61945724487305,-11.881834030151367,11.025251388549805,-33.27314758300781,-40.1047248840332,39.80230712890625,35.1719970703125,-70.85486602783203,28.429933547973633,10.515588760375977,31.9162654876709,26.667068481445312,-33.87974548339844,-34.46249008178711,39.22456741333008,39.23133850097656,-56.39409637451172,19.947689056396484,20.58385467529297,37.194942474365234,32.925025939941406,48.72141647338867,-48.83164596557617,-25.20366859436035,60.8533935546875,-47.33881759643555,51.3980598449707,17.153682708740234,80.57583618164062,64.52011108398438,42.53956985473633,76.71656036376953,19.43737030029297,-29.718429565429688,-52.96345901489258,78.15808868408203,-75.64411926269531,31.133108139038086,79.06535339355469,-20.467905044555664,13.100187301635742,4.618470668792725,34.2901725769043,29.868640899658203,-3.5863420963287354,6.3239426612854,-37.70233154296875,15.152342796325684,14.01109790802002,33.124000549316406,-53.0189208984375,33.12289810180664,32.234439849853516,69.5430908203125,66.97119903564453,39.874393463134766,-60.40956497192383,-11.472366333007812,11.634642601013184,27.85120391845703,-63.29232406616211,25.31968879699707,44.24296188354492,12.735207557678223,-21.26882553100586,39.420928955078125,7.358852386474609,43.942405700683594,60.591819763183594,9.323897361755371,73.76045989990234,24.600772857666016,-37.37844467163086,43.589752197265625,34.990604400634766,-27.067867279052734,-18.505136489868164,43.74856948852539,13.334750175476074,56.256507873535156,77.767333984375,0.9046619534492493,-28.785213470458984,8.704893112182617,-68.43170166015625,52.46186828613281,-80.12889099121094,-14.662623405456543,63.74836349487305,16.83859634399414,11.626201629638672,63.6920051574707,7.442417621612549,14.195586204528809,66.01814270019531,-73.54763793945312,-58.71632385253906,80.48709106445312,-66.1113510131836,10.013542175292969,39.0286979675293,13.271427154541016,42.13199234008789,-69.0805892944336,42.77862548828125,-83.54578399658203,74.29887390136719,-43.001319885253906,-74.61178588867188,10.592100143432617,-39.108192443847656,6.221635341644287,-1.3993051052093506,81.46070098876953,-45.51628494262695,45.02790832519531,74.33948516845703,61.99587631225586,85.68112182617188,38.82600021362305,74.27801513671875,14.352360725402832,18.174192428588867,9.885818481445312,24.522977828979492,-65.15336608886719,-68.48403930664062,79.17593383789062,40.03718185424805,-24.121490478515625,-70.44747924804688,37.720314025878906,64.37471771240234,26.110639572143555,-37.258026123046875,46.47214126586914,29.0192928314209,28.430416107177734,29.368358612060547,-66.03608703613281,38.4914665222168,63.849205017089844,12.571062088012695,35.057621002197266,26.69800567626953,-52.180015563964844,78.64551544189453,15.444075584411621,12.434496879577637,16.03628921508789,-48.35074996948242],\"yaxis\":\"y\",\"type\":\"scatter\"}],                        {\"template\":{\"data\":{\"histogram2dcontour\":[{\"type\":\"histogram2dcontour\",\"colorbar\":{\"outlinewidth\":0,\"ticks\":\"\"},\"colorscale\":[[0.0,\"#0d0887\"],[0.1111111111111111,\"#46039f\"],[0.2222222222222222,\"#7201a8\"],[0.3333333333333333,\"#9c179e\"],[0.4444444444444444,\"#bd3786\"],[0.5555555555555556,\"#d8576b\"],[0.6666666666666666,\"#ed7953\"],[0.7777777777777778,\"#fb9f3a\"],[0.8888888888888888,\"#fdca26\"],[1.0,\"#f0f921\"]]}],\"choropleth\":[{\"type\":\"choropleth\",\"colorbar\":{\"outlinewidth\":0,\"ticks\":\"\"}}],\"histogram2d\":[{\"type\":\"histogram2d\",\"colorbar\":{\"outlinewidth\":0,\"ticks\":\"\"},\"colorscale\":[[0.0,\"#0d0887\"],[0.1111111111111111,\"#46039f\"],[0.2222222222222222,\"#7201a8\"],[0.3333333333333333,\"#9c179e\"],[0.4444444444444444,\"#bd3786\"],[0.5555555555555556,\"#d8576b\"],[0.6666666666666666,\"#ed7953\"],[0.7777777777777778,\"#fb9f3a\"],[0.8888888888888888,\"#fdca26\"],[1.0,\"#f0f921\"]]}],\"heatmap\":[{\"type\":\"heatmap\",\"colorbar\":{\"outlinewidth\":0,\"ticks\":\"\"},\"colorscale\":[[0.0,\"#0d0887\"],[0.1111111111111111,\"#46039f\"],[0.2222222222222222,\"#7201a8\"],[0.3333333333333333,\"#9c179e\"],[0.4444444444444444,\"#bd3786\"],[0.5555555555555556,\"#d8576b\"],[0.6666666666666666,\"#ed7953\"],[0.7777777777777778,\"#fb9f3a\"],[0.8888888888888888,\"#fdca26\"],[1.0,\"#f0f921\"]]}],\"heatmapgl\":[{\"type\":\"heatmapgl\",\"colorbar\":{\"outlinewidth\":0,\"ticks\":\"\"},\"colorscale\":[[0.0,\"#0d0887\"],[0.1111111111111111,\"#46039f\"],[0.2222222222222222,\"#7201a8\"],[0.3333333333333333,\"#9c179e\"],[0.4444444444444444,\"#bd3786\"],[0.5555555555555556,\"#d8576b\"],[0.6666666666666666,\"#ed7953\"],[0.7777777777777778,\"#fb9f3a\"],[0.8888888888888888,\"#fdca26\"],[1.0,\"#f0f921\"]]}],\"contourcarpet\":[{\"type\":\"contourcarpet\",\"colorbar\":{\"outlinewidth\":0,\"ticks\":\"\"}}],\"contour\":[{\"type\":\"contour\",\"colorbar\":{\"outlinewidth\":0,\"ticks\":\"\"},\"colorscale\":[[0.0,\"#0d0887\"],[0.1111111111111111,\"#46039f\"],[0.2222222222222222,\"#7201a8\"],[0.3333333333333333,\"#9c179e\"],[0.4444444444444444,\"#bd3786\"],[0.5555555555555556,\"#d8576b\"],[0.6666666666666666,\"#ed7953\"],[0.7777777777777778,\"#fb9f3a\"],[0.8888888888888888,\"#fdca26\"],[1.0,\"#f0f921\"]]}],\"surface\":[{\"type\":\"surface\",\"colorbar\":{\"outlinewidth\":0,\"ticks\":\"\"},\"colorscale\":[[0.0,\"#0d0887\"],[0.1111111111111111,\"#46039f\"],[0.2222222222222222,\"#7201a8\"],[0.3333333333333333,\"#9c179e\"],[0.4444444444444444,\"#bd3786\"],[0.5555555555555556,\"#d8576b\"],[0.6666666666666666,\"#ed7953\"],[0.7777777777777778,\"#fb9f3a\"],[0.8888888888888888,\"#fdca26\"],[1.0,\"#f0f921\"]]}],\"mesh3d\":[{\"type\":\"mesh3d\",\"colorbar\":{\"outlinewidth\":0,\"ticks\":\"\"}}],\"scatter\":[{\"fillpattern\":{\"fillmode\":\"overlay\",\"size\":10,\"solidity\":0.2},\"type\":\"scatter\"}],\"parcoords\":[{\"type\":\"parcoords\",\"line\":{\"colorbar\":{\"outlinewidth\":0,\"ticks\":\"\"}}}],\"scatterpolargl\":[{\"type\":\"scatterpolargl\",\"marker\":{\"colorbar\":{\"outlinewidth\":0,\"ticks\":\"\"}}}],\"bar\":[{\"error_x\":{\"color\":\"#2a3f5f\"},\"error_y\":{\"color\":\"#2a3f5f\"},\"marker\":{\"line\":{\"color\":\"#E5ECF6\",\"width\":0.5},\"pattern\":{\"fillmode\":\"overlay\",\"size\":10,\"solidity\":0.2}},\"type\":\"bar\"}],\"scattergeo\":[{\"type\":\"scattergeo\",\"marker\":{\"colorbar\":{\"outlinewidth\":0,\"ticks\":\"\"}}}],\"scatterpolar\":[{\"type\":\"scatterpolar\",\"marker\":{\"colorbar\":{\"outlinewidth\":0,\"ticks\":\"\"}}}],\"histogram\":[{\"marker\":{\"pattern\":{\"fillmode\":\"overlay\",\"size\":10,\"solidity\":0.2}},\"type\":\"histogram\"}],\"scattergl\":[{\"type\":\"scattergl\",\"marker\":{\"colorbar\":{\"outlinewidth\":0,\"ticks\":\"\"}}}],\"scatter3d\":[{\"type\":\"scatter3d\",\"line\":{\"colorbar\":{\"outlinewidth\":0,\"ticks\":\"\"}},\"marker\":{\"colorbar\":{\"outlinewidth\":0,\"ticks\":\"\"}}}],\"scattermapbox\":[{\"type\":\"scattermapbox\",\"marker\":{\"colorbar\":{\"outlinewidth\":0,\"ticks\":\"\"}}}],\"scatterternary\":[{\"type\":\"scatterternary\",\"marker\":{\"colorbar\":{\"outlinewidth\":0,\"ticks\":\"\"}}}],\"scattercarpet\":[{\"type\":\"scattercarpet\",\"marker\":{\"colorbar\":{\"outlinewidth\":0,\"ticks\":\"\"}}}],\"carpet\":[{\"aaxis\":{\"endlinecolor\":\"#2a3f5f\",\"gridcolor\":\"white\",\"linecolor\":\"white\",\"minorgridcolor\":\"white\",\"startlinecolor\":\"#2a3f5f\"},\"baxis\":{\"endlinecolor\":\"#2a3f5f\",\"gridcolor\":\"white\",\"linecolor\":\"white\",\"minorgridcolor\":\"white\",\"startlinecolor\":\"#2a3f5f\"},\"type\":\"carpet\"}],\"table\":[{\"cells\":{\"fill\":{\"color\":\"#EBF0F8\"},\"line\":{\"color\":\"white\"}},\"header\":{\"fill\":{\"color\":\"#C8D4E3\"},\"line\":{\"color\":\"white\"}},\"type\":\"table\"}],\"barpolar\":[{\"marker\":{\"line\":{\"color\":\"#E5ECF6\",\"width\":0.5},\"pattern\":{\"fillmode\":\"overlay\",\"size\":10,\"solidity\":0.2}},\"type\":\"barpolar\"}],\"pie\":[{\"automargin\":true,\"type\":\"pie\"}]},\"layout\":{\"autotypenumbers\":\"strict\",\"colorway\":[\"#636efa\",\"#EF553B\",\"#00cc96\",\"#ab63fa\",\"#FFA15A\",\"#19d3f3\",\"#FF6692\",\"#B6E880\",\"#FF97FF\",\"#FECB52\"],\"font\":{\"color\":\"#2a3f5f\"},\"hovermode\":\"closest\",\"hoverlabel\":{\"align\":\"left\"},\"paper_bgcolor\":\"white\",\"plot_bgcolor\":\"#E5ECF6\",\"polar\":{\"bgcolor\":\"#E5ECF6\",\"angularaxis\":{\"gridcolor\":\"white\",\"linecolor\":\"white\",\"ticks\":\"\"},\"radialaxis\":{\"gridcolor\":\"white\",\"linecolor\":\"white\",\"ticks\":\"\"}},\"ternary\":{\"bgcolor\":\"#E5ECF6\",\"aaxis\":{\"gridcolor\":\"white\",\"linecolor\":\"white\",\"ticks\":\"\"},\"baxis\":{\"gridcolor\":\"white\",\"linecolor\":\"white\",\"ticks\":\"\"},\"caxis\":{\"gridcolor\":\"white\",\"linecolor\":\"white\",\"ticks\":\"\"}},\"coloraxis\":{\"colorbar\":{\"outlinewidth\":0,\"ticks\":\"\"}},\"colorscale\":{\"sequential\":[[0.0,\"#0d0887\"],[0.1111111111111111,\"#46039f\"],[0.2222222222222222,\"#7201a8\"],[0.3333333333333333,\"#9c179e\"],[0.4444444444444444,\"#bd3786\"],[0.5555555555555556,\"#d8576b\"],[0.6666666666666666,\"#ed7953\"],[0.7777777777777778,\"#fb9f3a\"],[0.8888888888888888,\"#fdca26\"],[1.0,\"#f0f921\"]],\"sequentialminus\":[[0.0,\"#0d0887\"],[0.1111111111111111,\"#46039f\"],[0.2222222222222222,\"#7201a8\"],[0.3333333333333333,\"#9c179e\"],[0.4444444444444444,\"#bd3786\"],[0.5555555555555556,\"#d8576b\"],[0.6666666666666666,\"#ed7953\"],[0.7777777777777778,\"#fb9f3a\"],[0.8888888888888888,\"#fdca26\"],[1.0,\"#f0f921\"]],\"diverging\":[[0,\"#8e0152\"],[0.1,\"#c51b7d\"],[0.2,\"#de77ae\"],[0.3,\"#f1b6da\"],[0.4,\"#fde0ef\"],[0.5,\"#f7f7f7\"],[0.6,\"#e6f5d0\"],[0.7,\"#b8e186\"],[0.8,\"#7fbc41\"],[0.9,\"#4d9221\"],[1,\"#276419\"]]},\"xaxis\":{\"gridcolor\":\"white\",\"linecolor\":\"white\",\"ticks\":\"\",\"title\":{\"standoff\":15},\"zerolinecolor\":\"white\",\"automargin\":true,\"zerolinewidth\":2},\"yaxis\":{\"gridcolor\":\"white\",\"linecolor\":\"white\",\"ticks\":\"\",\"title\":{\"standoff\":15},\"zerolinecolor\":\"white\",\"automargin\":true,\"zerolinewidth\":2},\"scene\":{\"xaxis\":{\"backgroundcolor\":\"#E5ECF6\",\"gridcolor\":\"white\",\"linecolor\":\"white\",\"showbackground\":true,\"ticks\":\"\",\"zerolinecolor\":\"white\",\"gridwidth\":2},\"yaxis\":{\"backgroundcolor\":\"#E5ECF6\",\"gridcolor\":\"white\",\"linecolor\":\"white\",\"showbackground\":true,\"ticks\":\"\",\"zerolinecolor\":\"white\",\"gridwidth\":2},\"zaxis\":{\"backgroundcolor\":\"#E5ECF6\",\"gridcolor\":\"white\",\"linecolor\":\"white\",\"showbackground\":true,\"ticks\":\"\",\"zerolinecolor\":\"white\",\"gridwidth\":2}},\"shapedefaults\":{\"line\":{\"color\":\"#2a3f5f\"}},\"annotationdefaults\":{\"arrowcolor\":\"#2a3f5f\",\"arrowhead\":0,\"arrowwidth\":1},\"geo\":{\"bgcolor\":\"white\",\"landcolor\":\"#E5ECF6\",\"subunitcolor\":\"white\",\"showland\":true,\"showlakes\":true,\"lakecolor\":\"white\"},\"title\":{\"x\":0.05},\"mapbox\":{\"style\":\"light\"}}},\"xaxis\":{\"anchor\":\"y\",\"domain\":[0.0,1.0],\"title\":{\"text\":\"x\"}},\"yaxis\":{\"anchor\":\"x\",\"domain\":[0.0,1.0],\"title\":{\"text\":\"y\"}},\"legend\":{\"tracegroupgap\":0},\"margin\":{\"t\":60}},                        {\"responsive\": true}                    ).then(function(){\n",
       "                            \n",
       "var gd = document.getElementById('b182ce00-f68b-4f4c-85d6-7f49d31a8fd3');\n",
       "var x = new MutationObserver(function (mutations, observer) {{\n",
       "        var display = window.getComputedStyle(gd).display;\n",
       "        if (!display || display === 'none') {{\n",
       "            console.log([gd, 'removed!']);\n",
       "            Plotly.purge(gd);\n",
       "            observer.disconnect();\n",
       "        }}\n",
       "}});\n",
       "\n",
       "// Listen for the removal of the full notebook cells\n",
       "var notebookContainer = gd.closest('#notebook-container');\n",
       "if (notebookContainer) {{\n",
       "    x.observe(notebookContainer, {childList: true});\n",
       "}}\n",
       "\n",
       "// Listen for the clearing of the current output cell\n",
       "var outputEl = gd.closest('.output');\n",
       "if (outputEl) {{\n",
       "    x.observe(outputEl, {childList: true});\n",
       "}}\n",
       "\n",
       "                        })                };                });            </script>        </div>"
      ]
     },
     "metadata": {},
     "output_type": "display_data"
    }
   ],
   "execution_count": 39
  },
  {
   "metadata": {},
   "cell_type": "markdown",
   "source": "En la visualización 2D de los embeddings, se observa que términos 'after', 'before', 'when', 'once' y 'then', están relacionadas con el orden de los eventos en el tiempo, lo cual tiene sentido que sus embeddings estén cercanos en el espacio vectorial.",
   "id": "bdeb00606611127a"
  },
  {
   "metadata": {
    "ExecuteTime": {
     "end_time": "2025-04-03T22:38:19.351346Z",
     "start_time": "2025-04-03T22:33:19.070319Z"
    }
   },
   "cell_type": "code",
   "source": [
    "# Graficar los embedddings en 3D\n",
    "\n",
    "vecs, labels = reduce_dimensions(w2v_model,3)\n",
    "\n",
    "fig = px.scatter_3d(x=vecs[:MAX_WORDS,0], y=vecs[:MAX_WORDS,1], z=vecs[:MAX_WORDS,2],text=labels[:MAX_WORDS])\n",
    "fig.update_traces(marker_size = 2)\n",
    "fig.show() # esto para plotly en colab"
   ],
   "id": "b69993a1764053bc",
   "outputs": [
    {
     "data": {
      "application/vnd.plotly.v1+json": {
       "data": [
        {
         "hovertemplate": "x=%{x}<br>y=%{y}<br>z=%{z}<br>text=%{text}<extra></extra>",
         "legendgroup": "",
         "marker": {
          "color": "#636efa",
          "symbol": "circle",
          "size": 2
         },
         "mode": "markers+text",
         "name": "",
         "scene": "scene",
         "showlegend": false,
         "text": [
          "the",
          "to",
          "i",
          "and",
          "a",
          "it",
          "of",
          "is",
          "for",
          "this",
          "you",
          "that",
          "my",
          "in",
          "with",
          "have",
          "on",
          "not",
          "was",
          "but",
          "as",
          "software",
          "be",
          "so",
          "are",
          "product",
          "if",
          "use",
          "all",
          "from",
          "program",
          "or",
          "me",
          "had",
          "your",
          "they",
          "can",
          "do",
          "an",
          "will",
          "version",
          "very",
          "no",
          "at",
          "one",
          "get",
          "just",
          "would",
          "up",
          "has",
          "time",
          "like",
          "windows",
          "when",
          "more",
          "computer",
          "there",
          "great",
          "what",
          "out",
          "been",
          "work",
          "good",
          "used",
          "new",
          "only",
          "years",
          "using",
          "it's",
          "easy",
          "some",
          "which",
          "than",
          "other",
          "about",
          "after",
          "don't",
          "am",
          "now",
          "by",
          "their",
          "any",
          "then",
          "well",
          "even",
          "does",
          "also",
          "because",
          "much",
          "year",
          "them",
          "did",
          "support",
          "quicken",
          "i've",
          "i'm",
          "works",
          "really",
          "need",
          "many",
          "could",
          "how",
          "install",
          "back",
          "tax",
          "still",
          "over",
          "way",
          "we",
          "want",
          "buy",
          "better",
          "download",
          "money",
          "problem",
          "first",
          "find",
          "make",
          "mac",
          "since",
          "system",
          "2",
          "go",
          "user",
          "upgrade",
          "were",
          "amazon",
          "problems",
          "1",
          "price",
          "old",
          "pc",
          "3",
          "never",
          "norton",
          "microsoft",
          "into",
          "bought",
          "got",
          "file",
          "7",
          "help",
          "its",
          "free",
          "again",
          "able",
          "most",
          "know",
          "before",
          "10",
          "found",
          "features",
          "same",
          "installed",
          "every",
          "tried",
          "5",
          "who",
          "without",
          "can't",
          "office",
          "too",
          "8",
          "love",
          "best",
          "recommend",
          "through",
          "lot",
          "files",
          "should",
          "another",
          "data",
          "see",
          "update",
          "few",
          "programs",
          "didn't",
          "game",
          "two",
          "think",
          "doesn't",
          "worked",
          "video",
          "purchased",
          "turbotax",
          "far",
          "everything",
          "home",
          "run",
          "little",
          "try",
          "however",
          "things",
          "these",
          "while",
          "down",
          "business",
          "always",
          "4",
          "purchase",
          "online",
          "hard",
          "say",
          "several",
          "different",
          "off",
          "drive",
          "going",
          "customer",
          "right",
          "word",
          "something",
          "xp",
          "having",
          "last",
          "where",
          "service",
          "internet",
          "people",
          "pro",
          "return",
          "running",
          "made",
          "take",
          "bit",
          "our",
          "give",
          "sure",
          "security",
          "state",
          "once",
          "thing",
          "working",
          "needed",
          "fine",
          "products",
          "own",
          "trying",
          "simple",
          "each",
          "seems",
          "read",
          "may",
          "long",
          "hours",
          "being",
          "getting",
          "cd",
          "start",
          "intuit",
          "information",
          "both",
          "issues",
          "learn",
          "versions",
          "why",
          "screen",
          "he",
          "those",
          "though",
          "keep",
          "times",
          "learning",
          "ever",
          "taxes",
          "etc",
          "worth",
          "laptop",
          "reviews",
          "done",
          "turbo",
          "set",
          "virus",
          "company",
          "feature",
          "said",
          "vista",
          "took",
          "pay",
          "review",
          "day",
          "os",
          "installation",
          "interface",
          "days",
          "less",
          "look",
          "e",
          "dvd",
          "went",
          "looking",
          "anything",
          "nothing",
          "computers",
          "available",
          "such",
          "doing",
          "makes",
          "next",
          "nice",
          "actually",
          "yet",
          "number",
          "happy",
          "wanted",
          "pretty",
          "around",
          "bad",
          "previous",
          "open",
          "put",
          "until",
          "full",
          "process",
          "already",
          "excellent",
          "won't",
          "tech",
          "users",
          "account",
          "here",
          "web",
          "finally",
          "thought",
          "updates",
          "issue",
          "cannot",
          "copy",
          "card",
          "minutes",
          "enough",
          "play",
          "key",
          "save",
          "phone",
          "music",
          "app",
          "website",
          "downloaded",
          "came",
          "6",
          "desktop",
          "job",
          "email",
          "create",
          "fast",
          "least",
          "change",
          "needs",
          "you're",
          "experience",
          "anyone",
          "add",
          "must",
          "editing",
          "r",
          "basic",
          "easier",
          "fix",
          "access",
          "error",
          "line",
          "three",
          "box",
          "past",
          "h",
          "refund",
          "ago",
          "ms",
          "block",
          "instead",
          "that's",
          "end",
          "older",
          "slow",
          "print",
          "highly",
          "started",
          "disk",
          "fun",
          "us",
          "cost",
          "package",
          "games",
          "0",
          "come",
          "she",
          "small",
          "quite",
          "let",
          "site",
          "complete",
          "probably",
          "almost",
          "tool",
          "link",
          "either",
          "order",
          "machine",
          "backup"
         ],
         "x": [
          11.195993423461914,
          18.682647705078125,
          15.857318878173828,
          14.138442993164062,
          -1.2835949659347534,
          9.685909271240234,
          7.645809173583984,
          4.621849060058594,
          8.211111068725586,
          24.6536808013916,
          1.4002196788787842,
          14.141605377197266,
          12.659196853637695,
          10.72616958618164,
          12.993693351745605,
          18.403785705566406,
          12.552145957946777,
          13.697452545166016,
          8.757802963256836,
          13.9669189453125,
          4.275461673736572,
          19.70301055908203,
          2.8040049076080322,
          14.285590171813965,
          -6.170892238616943,
          -0.14235752820968628,
          3.0772104263305664,
          10.537248611450195,
          0.2232760339975357,
          10.663476943969727,
          8.83057689666748,
          10.242597579956055,
          4.423413276672363,
          22.08984375,
          8.180916786193848,
          1.6068193912506104,
          18.710243225097656,
          2.3812291622161865,
          12.94705867767334,
          17.51951789855957,
          31.71213722229004,
          -5.713261604309082,
          16.049760818481445,
          -0.23135986924171448,
          11.632253646850586,
          0.925747811794281,
          12.347844123840332,
          16.36526107788086,
          16.654155731201172,
          22.857120513916016,
          -2.6441104412078857,
          10.780867576599121,
          39.835018157958984,
          13.879682540893555,
          -2.466015577316284,
          5.357672691345215,
          7.972320079803467,
          5.50146484375,
          6.225627899169922,
          -8.182233810424805,
          1.1904789209365845,
          29.414487838745117,
          4.883738994598389,
          27.608129501342773,
          12.304875373840332,
          13.012027740478516,
          7.130331993103027,
          21.83411407470703,
          3.2984800338745117,
          -11.002269744873047,
          -6.330935955047607,
          17.531757354736328,
          -0.9827699065208435,
          -6.346939563751221,
          11.176518440246582,
          6.9552741050720215,
          17.56985092163086,
          -11.077825546264648,
          15.52748966217041,
          10.792694091796875,
          4.671052932739258,
          14.077646255493164,
          14.129617691040039,
          -7.807910442352295,
          1.050047516822815,
          15.762978553771973,
          10.509590148925781,
          11.916157722473145,
          -2.4507157802581787,
          6.711548328399658,
          0.7952812314033508,
          16.28196907043457,
          -9.548340797424316,
          27.159507751464844,
          22.150867462158203,
          -11.060393333435059,
          14.921067237854004,
          -0.0990801453590393,
          1.9005452394485474,
          -5.995995044708252,
          17.039827346801758,
          -2.7575035095214844,
          38.631935119628906,
          11.437177658081055,
          -1.9588335752487183,
          14.399911880493164,
          13.092093467712402,
          -7.533361911773682,
          17.424596786499023,
          1.1178550720214844,
          -1.9019818305969238,
          -2.3793649673461914,
          37.57891845703125,
          -5.592188358306885,
          9.760828971862793,
          11.856863975524902,
          0.43756338953971863,
          -2.281524419784546,
          35.614288330078125,
          23.757911682128906,
          35.991241455078125,
          23.167877197265625,
          -0.10304555296897888,
          21.54570960998535,
          16.6825008392334,
          9.918342590332031,
          -2.0032782554626465,
          21.53072738647461,
          21.766082763671875,
          11.919965744018555,
          24.319921493530273,
          40.465885162353516,
          23.335376739501953,
          19.61598014831543,
          30.902204513549805,
          16.710689544677734,
          8.169474601745605,
          20.020856857299805,
          15.471205711364746,
          27.72068977355957,
          38.494510650634766,
          -5.122373104095459,
          12.130287170410156,
          25.22580909729004,
          15.209054946899414,
          32.8588981628418,
          1.002779245376587,
          -7.035722255706787,
          13.467081069946289,
          38.46168899536133,
          16.53656768798828,
          -1.9807618856430054,
          3.355910062789917,
          36.66168975830078,
          12.591724395751953,
          29.227397918701172,
          24.23626136779785,
          -31.425260543823242,
          12.272808074951172,
          17.8765926361084,
          27.192672729492188,
          -9.782907485961914,
          38.74502944946289,
          -34.73117446899414,
          9.268708229064941,
          -0.9246787428855896,
          7.914083003997803,
          -7.563701629638672,
          27.076190948486328,
          15.911721229553223,
          12.865978240966797,
          28.7939395904541,
          -4.613259792327881,
          29.2364501953125,
          12.357464790344238,
          29.34676170349121,
          17.22880744934082,
          -40.575748443603516,
          12.531392097473145,
          4.8174567222595215,
          17.383670806884766,
          16.365928649902344,
          14.130880355834961,
          19.84263038635254,
          20.60717010498047,
          -4.711480140686035,
          20.662281036376953,
          18.386459350585938,
          29.440567016601562,
          -10.912137985229492,
          2.322390556335449,
          14.025946617126465,
          -11.411314010620117,
          -5.9872260093688965,
          -11.47244644165039,
          16.510826110839844,
          14.64548110961914,
          22.15458869934082,
          23.67344856262207,
          -2.071058988571167,
          7.0184502601623535,
          22.894886016845703,
          3.4327714443206787,
          11.863081932067871,
          -5.371401786804199,
          8.473526954650879,
          26.898881912231445,
          0.06515824794769287,
          -11.181524276733398,
          -9.872498512268066,
          22.442039489746094,
          7.157623185776174E-4,
          40.262630462646484,
          20.64613151550293,
          12.050768852233887,
          6.403960704803467,
          -11.066801071166992,
          33.47653579711914,
          -18.733322143554688,
          31.54299545288086,
          12.293648719787598,
          40.005767822265625,
          13.335251808166504,
          -26.7331600189209,
          0.2785530090332031,
          -1.3130302429199219,
          -0.11734640598297119,
          0.5809622406959534,
          34.39611053466797,
          13.366462707519531,
          13.669586181640625,
          3.9068491458892822,
          19.04132080078125,
          15.018518447875977,
          39.48819351196289,
          22.566509246826172,
          -0.8133270144462585,
          29.345558166503906,
          -5.913819789886475,
          8.793663024902344,
          15.972896575927734,
          -3.6643261909484863,
          16.172840118408203,
          -15.633077621459961,
          9.591689109802246,
          20.60512351989746,
          10.546113014221191,
          17.18707847595215,
          17.78797721862793,
          -3.4477458000183105,
          5.569892406463623,
          12.594611167907715,
          21.644376754760742,
          -28.073989868164062,
          35.48126983642578,
          6.21911096572876,
          -11.327585220336914,
          -35.945377349853516,
          -19.041383743286133,
          14.09888744354248,
          1.1503945589065552,
          23.18195915222168,
          -26.041532516479492,
          19.148162841796875,
          -25.285511016845703,
          6.811812877655029,
          3.9010226726531982,
          14.245837211608887,
          -22.104310989379883,
          10.648632049560547,
          21.840282440185547,
          19.528305053710938,
          30.56899070739746,
          -3.64119029045105,
          22.179758071899414,
          -0.5995264649391174,
          40.0749397277832,
          8.28219985961914,
          12.733306884765625,
          -9.293059349060059,
          9.24833869934082,
          39.27796173095703,
          27.58139991760254,
          -3.628847360610962,
          9.590206146240234,
          -0.968754768371582,
          -2.8572897911071777,
          1.7059985399246216,
          17.712173461914062,
          30.000015258789062,
          -36.66217803955078,
          5.063297271728516,
          9.007177352905273,
          41.91825485229492,
          17.844301223754883,
          5.219871997833252,
          -5.227909564971924,
          16.169248580932617,
          13.021992683410645,
          -5.720978736877441,
          13.940149307250977,
          16.765695571899414,
          3.7813832759857178,
          -24.193960189819336,
          3.3764045238494873,
          -4.515878677368164,
          -11.668269157409668,
          5.550259113311768,
          29.58742332458496,
          26.573436737060547,
          -0.030523644760251045,
          15.264839172363281,
          13.097024917602539,
          10.8369722366333,
          18.41992950439453,
          9.97335433959961,
          18.194185256958008,
          -10.4528169631958,
          23.938812255859375,
          3.2033231258392334,
          -2.0579912662506104,
          36.754268646240234,
          15.956941604614258,
          9.743169784545898,
          33.429080963134766,
          9.66018009185791,
          18.137374877929688,
          27.53912925720215,
          7.030770301818848,
          10.511653900146484,
          -0.9062025547027588,
          -25.60430335998535,
          38.724361419677734,
          22.77323341369629,
          0.4737686514854431,
          1.005035161972046,
          23.526037216186523,
          3.9598376750946045,
          31.0789737701416,
          28.80225372314453,
          24.401538848876953,
          40.29413604736328,
          2.544985771179199,
          -2.0113158226013184,
          17.0798397064209,
          -5.63212776184082,
          5.398608684539795,
          16.26911163330078,
          8.31017780303955,
          1.7007277011871338,
          -14.600699424743652,
          -5.615908622741699,
          20.419668197631836,
          16.81758689880371,
          9.513097763061523,
          -3.018756151199341,
          15.779204368591309,
          -3.239189863204956,
          33.404693603515625,
          32.0481071472168,
          36.72075653076172,
          -1.3827481269836426,
          12.429356575012207,
          8.582075119018555,
          14.599206924438477,
          -2.9106907844543457,
          9.452397346496582,
          7.719784736633301,
          26.419797897338867,
          -3.0578041076660156,
          9.43846321105957,
          6.6096649169921875,
          -1.7438701391220093,
          32.075618743896484,
          0.5636355876922607,
          22.321386337280273,
          -2.581629991531372,
          23.4943790435791,
          24.49141502380371,
          -25.586780548095703,
          -7.500635623931885,
          11.767226219177246,
          22.614620208740234,
          -33.9288215637207,
          29.586870193481445,
          1.4921510219573975,
          -36.00975799560547,
          0.03825394809246063,
          -8.87120532989502,
          1.847335934638977,
          4.047737121582031,
          8.245230674743652,
          5.577584266662598,
          11.743335723876953,
          13.5900239944458,
          -1.4412312507629395,
          15.97585391998291,
          37.10948944091797,
          40.68949890136719,
          27.044557571411133
         ],
         "y": [
          3.811724901199341,
          -12.644109725952148,
          -3.8200457096099854,
          -2.906757354736328,
          2.7391514778137207,
          -9.44471549987793,
          7.037809371948242,
          -25.213977813720703,
          5.110386848449707,
          7.574145317077637,
          -12.40196704864502,
          -5.787055015563965,
          1.7510682344436646,
          3.1217408180236816,
          -4.4386372566223145,
          -5.777768611907959,
          1.7939234972000122,
          -16.657808303833008,
          -12.142718315124512,
          -8.421704292297363,
          -25.12216567993164,
          3.5342180728912354,
          -14.863582611083984,
          -9.221811294555664,
          -37.206172943115234,
          3.1047632694244385,
          -11.738642692565918,
          -13.098207473754883,
          -9.894834518432617,
          6.072538375854492,
          -16.230501174926758,
          4.106151580810547,
          -4.006110668182373,
          -4.519322395324707,
          2.9563446044921875,
          -0.3447040319442749,
          -12.505827903747559,
          -12.130056381225586,
          4.953847408294678,
          -12.840825080871582,
          21.137802124023438,
          -37.757843017578125,
          -23.564836502075195,
          0.8561369180679321,
          6.83217191696167,
          -9.127741813659668,
          -6.604801177978516,
          -12.011489868164062,
          -25.672008514404297,
          0.8981408476829529,
          5.721468448638916,
          -13.521695137023926,
          3.33772611618042,
          -1.501658320426941,
          -42.69139862060547,
          -4.854005336761475,
          -36.01365280151367,
          -25.387296676635742,
          -11.053196907043457,
          -9.42534351348877,
          26.529813766479492,
          -13.946294784545898,
          -25.578866958618164,
          13.011955261230469,
          2.5282509326934814,
          -5.075210094451904,
          29.999671936035156,
          2.0348589420318604,
          -24.798185348510742,
          -37.68781661987305,
          -37.22902297973633,
          -2.546135902404785,
          -44.44779968261719,
          -37.92168045043945,
          12.190567970275879,
          3.5894477367401123,
          -10.759578704833984,
          -34.49453353881836,
          2.0216267108917236,
          2.331486940383911,
          13.357962608337402,
          -24.014192581176758,
          -2.108135223388672,
          -38.828250885009766,
          -12.566638946533203,
          -17.67706871032715,
          -11.984328269958496,
          -6.769335746765137,
          -42.79136657714844,
          32.2429313659668,
          -6.40200138092041,
          -13.337181091308594,
          18.034391403198242,
          15.591782569885254,
          -4.619915008544922,
          -34.45698165893555,
          -23.862144470214844,
          -17.273393630981445,
          -12.363277435302734,
          -38.9262809753418,
          -12.7315034866333,
          -17.771909713745117,
          -9.614469528198242,
          5.822850227355957,
          18.17650604248047,
          -9.440163612365723,
          32.192039489746094,
          -20.383398056030273,
          -5.295650959014893,
          -11.982244491577148,
          -6.9377546310424805,
          -42.9051513671875,
          -9.512768745422363,
          3.915722608566284,
          -34.76976013183594,
          3.561260938644409,
          -12.573019027709961,
          -18.36372947692871,
          6.626383304595947,
          10.698116302490234,
          -5.614860534667969,
          25.826400756835938,
          0.4228375256061554,
          3.5739364624023438,
          15.828544616699219,
          -25.051105499267578,
          23.605745315551758,
          -31.037038803100586,
          28.256500244140625,
          18.316726684570312,
          23.231462478637695,
          0.2032824158668518,
          25.801332473754883,
          -5.3962860107421875,
          0.0573597177863121,
          13.39838695526123,
          2.971719264984131,
          11.048354148864746,
          5.383501052856445,
          -8.586965560913086,
          7.3508219718933105,
          2.9441893100738525,
          9.105534553527832,
          2.8271031379699707,
          -1.3393992185592651,
          -14.340690612792969,
          -33.165992736816406,
          -8.037324905395508,
          -0.5683872103691101,
          7.978593826293945,
          -8.91042423248291,
          -32.79686737060547,
          4.758829116821289,
          -0.33458462357521057,
          0.12234698235988617,
          -10.755414009094238,
          25.9493465423584,
          8.105238914489746,
          3.090315103530884,
          -12.743268013000488,
          15.571796417236328,
          -42.899845123291016,
          7.875003814697266,
          5.577967643737793,
          -24.831985473632812,
          -2.751570224761963,
          -1.6294223070144653,
          -39.3082160949707,
          -6.188877105712891,
          -12.504838943481445,
          1.3933902978897095,
          -2.8413045406341553,
          -9.864391326904297,
          -4.323241710662842,
          33.75308609008789,
          -3.2536935806274414,
          -12.671911239624023,
          10.23480224609375,
          33.690242767333984,
          -10.047844886779785,
          -14.464049339294434,
          -23.26357650756836,
          7.0841522216796875,
          11.014554023742676,
          14.123448371887207,
          -45.20473098754883,
          -12.664619445800781,
          19.461633682250977,
          -12.79281234741211,
          -43.10246276855469,
          -7.211571216583252,
          -8.042840957641602,
          -26.983013153076172,
          -38.743568420410156,
          -2.0103023052215576,
          -25.75799560546875,
          21.104564666748047,
          -0.8438814878463745,
          25.895069122314453,
          -5.741560459136963,
          13.792926788330078,
          12.850443840026855,
          -11.273820877075195,
          34.64448547363281,
          -38.930885314941406,
          -0.6714434623718262,
          14.465030670166016,
          -7.787088871002197,
          18.81395721435547,
          -1.629604697227478,
          -3.172004222869873,
          -11.108981132507324,
          3.234553813934326,
          -7.33439302444458,
          29.6055908203125,
          -5.063981533050537,
          18.9069766998291,
          -4.208869934082031,
          2.236783504486084,
          21.048246383666992,
          19.761676788330078,
          0.39046037197113037,
          -8.78763484954834,
          -21.4951114654541,
          -45.12653350830078,
          11.67229175567627,
          -5.74718713760376,
          -10.68756103515625,
          2.986276149749756,
          20.12553596496582,
          -1.6832610368728638,
          -33.94828796386719,
          -16.278390884399414,
          -5.4493184089660645,
          -2.795243740081787,
          7.5387492179870605,
          12.660269737243652,
          -15.35702896118164,
          -32.206058502197266,
          4.035007953643799,
          -16.136457443237305,
          -6.335026264190674,
          -12.857447624206543,
          -9.94298267364502,
          38.184295654296875,
          -10.330636978149414,
          -1.0000702142715454,
          13.65543270111084,
          -22.690183639526367,
          19.512998580932617,
          31.002965927124023,
          4.218939304351807,
          -31.035993576049805,
          -13.903318405151367,
          18.54701805114746,
          -11.023832321166992,
          -12.033064842224121,
          16.827655792236328,
          -2.553189754486084,
          -7.359628677368164,
          -5.790594100952148,
          -29.780685424804688,
          -30.222326278686523,
          -5.967389106750488,
          18.651504516601562,
          1.9915651082992554,
          -4.70164680480957,
          36.5410270690918,
          3.9178102016448975,
          -9.551873207092285,
          15.169281959533691,
          -24.412179946899414,
          -26.874557495117188,
          20.00478744506836,
          0.7134416103363037,
          13.345468521118164,
          2.9941067695617676,
          34.005130767822266,
          21.414020538330078,
          2.4677021503448486,
          35.582489013671875,
          5.642431259155273,
          -11.187400817871094,
          -35.93265151977539,
          37.96345901489258,
          -44.375064849853516,
          -9.724906921386719,
          32.86106872558594,
          13.138287544250488,
          -8.69146728515625,
          -1.2439954280853271,
          -14.698862075805664,
          -15.103225708007812,
          5.589984893798828,
          1.501221776008606,
          -25.531877517700195,
          -5.0538554191589355,
          -19.133623123168945,
          1.2538585662841797,
          -32.63550567626953,
          -10.010735511779785,
          -8.611605644226074,
          9.034225463867188,
          -16.19852066040039,
          -7.701387882232666,
          -38.52705383300781,
          -2.3110103607177734,
          -27.017263412475586,
          7.265257835388184,
          -10.486676216125488,
          -0.5481235384941101,
          4.7385406494140625,
          6.707329273223877,
          -12.05260181427002,
          -5.741916656494141,
          -27.7612247467041,
          -13.181269645690918,
          17.64440155029297,
          7.833935260772705,
          27.385868072509766,
          -8.600282669067383,
          -0.9788106679916382,
          1.567012071609497,
          -5.731900691986084,
          -17.40568733215332,
          -34.712745666503906,
          -13.30562973022461,
          -7.44179105758667,
          25.141862869262695,
          37.32596206665039,
          -17.52655601501465,
          -22.672883987426758,
          -17.018871307373047,
          -10.350067138671875,
          11.319937705993652,
          12.655281066894531,
          -1.9418246746063232,
          21.02391242980957,
          -4.301693439483643,
          -7.355105876922607,
          25.788829803466797,
          0.38604429364204407,
          -24.50609016418457,
          19.092763900756836,
          -9.124871253967285,
          -43.042518615722656,
          32.372982025146484,
          -12.966988563537598,
          -9.301426887512207,
          -8.641712188720703,
          -24.829355239868164,
          -1.387705683708191,
          -9.634249687194824,
          -12.123208045959473,
          3.0889177322387695,
          27.268835067749023,
          11.854044914245605,
          -40.96503448486328,
          -14.426539421081543,
          -9.645445823669434,
          -18.311321258544922,
          2.680248498916626,
          33.71980285644531,
          14.15078353881836,
          12.052858352661133,
          27.13043785095215,
          20.164291381835938,
          29.97446632385254,
          14.414719581604004,
          27.177568435668945,
          5.942694664001465,
          -4.295626640319824,
          -2.491417407989502,
          8.745420455932617,
          -44.94342041015625,
          -9.785686492919922,
          -0.5179204344749451,
          -13.978226661682129,
          13.794201850891113,
          -32.78798294067383,
          -4.6494526863098145,
          24.517026901245117,
          5.2798237800598145,
          -4.687237739562988,
          25.68840980529785,
          -9.30445671081543,
          16.69640350341797,
          14.21061897277832,
          -44.333003997802734,
          -8.228687286376953,
          21.03434944152832,
          2.7870726585388184,
          -10.102778434753418,
          5.289987087249756,
          -5.625577926635742,
          19.623497009277344,
          -6.93415641784668,
          -9.771515846252441,
          0.8242030739784241,
          -2.16536021232605
         ],
         "z": [
          5.667681694030762,
          -33.40093231201172,
          -35.09108352661133,
          -12.477213859558105,
          0.2332647740840912,
          -27.869291305541992,
          7.2302398681640625,
          -26.236780166625977,
          4.251898765563965,
          -17.46590805053711,
          -38.52851104736328,
          -14.269274711608887,
          2.2254021167755127,
          5.489577770233154,
          -7.6265668869018555,
          -32.0885124206543,
          2.424515724182129,
          -32.24585723876953,
          -26.7485408782959,
          -25.0828914642334,
          -26.515592575073242,
          -12.48562240600586,
          -33.64348602294922,
          -27.188739776611328,
          13.711371421813965,
          -43.83114242553711,
          -39.11262893676758,
          -8.756474494934082,
          -4.424777030944824,
          2.7687418460845947,
          -18.79005241394043,
          9.466654777526855,
          -31.752330780029297,
          -23.745786666870117,
          9.675422668457031,
          -33.59436798095703,
          -33.484474182128906,
          -37.82462692260742,
          5.162431716918945,
          -35.118587493896484,
          -11.75759220123291,
          -9.605679512023926,
          -14.987485885620117,
          0.45176276564598083,
          -20.139835357666016,
          -34.55527114868164,
          -27.591135025024414,
          -35.997093200683594,
          19.33247947692871,
          -5.924374103546143,
          -15.763066291809082,
          -15.835660934448242,
          -10.09589958190918,
          -25.914289474487305,
          9.381586074829102,
          -3.0253794193267822,
          -9.029681205749512,
          -29.590620040893555,
          -31.837160110473633,
          2.742650270462036,
          -34.543453216552734,
          23.527149200439453,
          -28.145296096801758,
          -17.83830451965332,
          2.503047466278076,
          -23.225547790527344,
          -30.890451431274414,
          -25.184850692749023,
          -26.871257781982422,
          -12.47989559173584,
          13.828248977661133,
          -12.510568618774414,
          9.604875564575195,
          18.077939987182617,
          -23.582826614379883,
          -25.281278610229492,
          -35.09975814819336,
          -20.308605194091797,
          -29.94725227355957,
          4.81794548034668,
          -12.239228248596191,
          -6.7435407638549805,
          -24.862403869628906,
          -11.444445610046387,
          -35.071590423583984,
          -33.67177200317383,
          -14.445505142211914,
          -24.929542541503906,
          7.483552932739258,
          -30.05748176574707,
          -19.454904556274414,
          -37.02741241455078,
          -29.03230094909668,
          -15.377179145812988,
          -33.44319534301758,
          -20.383140563964844,
          -28.82413101196289,
          -28.79657745361328,
          -38.279300689697266,
          18.320632934570312,
          -35.537010192871094,
          -30.70884132385254,
          -8.350497245788574,
          -35.514915466308594,
          -13.240370750427246,
          -27.192331314086914,
          -26.256650924682617,
          -12.743307113647461,
          -32.95216751098633,
          -39.389259338378906,
          -41.71583557128906,
          9.223155975341797,
          -15.042242050170898,
          -19.124591827392578,
          -15.662789344787598,
          -30.344806671142578,
          -34.2556266784668,
          -35.88974380493164,
          -8.18433666229248,
          -19.392333984375,
          -2.317533493041992,
          -11.643482208251953,
          -18.704994201660156,
          -5.144596099853516,
          -27.19331932067871,
          -6.6335320472717285,
          -23.85095977783203,
          -10.18315601348877,
          -11.376984596252441,
          -35.21993637084961,
          -7.70706844329834,
          -3.735628604888916,
          -11.67638874053955,
          -33.41264343261719,
          -23.60454559326172,
          -10.97741413116455,
          9.769547462463379,
          -28.604034423828125,
          -33.313289642333984,
          20.911771774291992,
          -11.671201705932617,
          -33.9242057800293,
          -2.4841229915618896,
          -17.93437385559082,
          -36.59921646118164,
          -21.792837142944336,
          8.51596450805664,
          -36.37067413330078,
          -26.02004623413086,
          -11.958965301513672,
          -26.08367347717285,
          12.244521141052246,
          -19.933568954467773,
          -13.76412296295166,
          -27.579423904418945,
          -19.17339324951172,
          -11.832865715026855,
          -16.590181350708008,
          9.211493492126465,
          -35.32332229614258,
          -12.4629487991333,
          3.225959539413452,
          -11.731895446777344,
          -11.680047988891602,
          -24.755598068237305,
          -44.85893630981445,
          -13.492415428161621,
          10.795828819274902,
          21.923776626586914,
          -34.9422721862793,
          -26.387155532836914,
          21.23980140686035,
          -32.40978240966797,
          -15.294833183288574,
          -25.465444564819336,
          0.5395519733428955,
          -36.05039596557617,
          -4.942416191101074,
          -26.56171226501465,
          -33.613895416259766,
          -35.51460266113281,
          -27.463254928588867,
          27.558069229125977,
          -28.68021011352539,
          -22.503435134887695,
          1.560365080833435,
          -22.715805053710938,
          -1.8021342754364014,
          24.8039493560791,
          3.9433557987213135,
          -36.69489669799805,
          -24.476533889770508,
          12.917623519897461,
          18.39451789855957,
          1.973515510559082,
          19.81722640991211,
          -4.152251243591309,
          -26.242055892944336,
          -11.722672462463379,
          -40.724124908447266,
          -12.50671100616455,
          18.57605743408203,
          -33.72431945800781,
          -26.890857696533203,
          17.876367568969727,
          -13.310199737548828,
          21.79551887512207,
          -32.49518585205078,
          -28.51673126220703,
          10.187594413757324,
          27.91124153137207,
          -35.37302017211914,
          -10.545308113098145,
          -23.85615348815918,
          -24.421363830566406,
          -13.110403060913086,
          -28.208463668823242,
          5.905712127685547,
          -33.35133361816406,
          -5.459013938903809,
          -27.399818420410156,
          -10.751142501831055,
          -24.24760627746582,
          21.972021102905273,
          3.5954227447509766,
          18.437885284423828,
          -30.522436141967773,
          -36.522090911865234,
          -24.88654136657715,
          -26.03480339050293,
          -25.582080841064453,
          -20.067455291748047,
          -17.98220443725586,
          -27.161758422851562,
          -11.596190452575684,
          -5.538449287414551,
          22.742298126220703,
          -20.15682601928711,
          -10.40921688079834,
          7.206251621246338,
          -34.38713455200195,
          -21.39067840576172,
          -34.74776077270508,
          -4.147485256195068,
          -21.246707916259766,
          -19.18723487854004,
          -27.078336715698242,
          26.301071166992188,
          25.908145904541016,
          -26.290525436401367,
          1.1783913373947144,
          2.629784345626831,
          -10.026288032531738,
          0.38179758191108704,
          -11.989419937133789,
          -31.875015258789062,
          30.107250213623047,
          -8.348197937011719,
          -11.903912544250488,
          -26.96798324584961,
          -19.43492317199707,
          -16.08437156677246,
          4.342545032501221,
          -31.696928024291992,
          -16.81437873840332,
          13.434992790222168,
          -45.52686309814453,
          10.900795936584473,
          -32.30613327026367,
          -30.01390266418457,
          -22.33017349243164,
          25.301239013671875,
          -6.46636438369751,
          -25.442853927612305,
          15.895929336547852,
          -34.35132598876953,
          -10.553726196289062,
          -22.438093185424805,
          -29.434091567993164,
          -30.262996673583984,
          -17.661914825439453,
          -9.586237907409668,
          -10.706024169921875,
          -1.1704444885253906,
          -19.903118133544922,
          9.379013061523438,
          -34.37348937988281,
          -9.99710464477539,
          28.70240020751953,
          -14.629995346069336,
          -12.568523406982422,
          -36.71124267578125,
          -30.99945640563965,
          1.808747410774231,
          -8.858159065246582,
          8.92134952545166,
          -23.143787384033203,
          -33.44965744018555,
          -27.16849708557129,
          -9.500129699707031,
          -30.081050872802734,
          -27.805383682250977,
          -20.490474700927734,
          -29.249731063842773,
          -38.070796966552734,
          -5.366265296936035,
          2.4911017417907715,
          -18.249055862426758,
          -17.613494873046875,
          25.64076042175293,
          -17.657596588134766,
          -35.40798568725586,
          6.519658088684082,
          5.734531402587891,
          -32.18385314941406,
          -24.977296829223633,
          -36.32564163208008,
          -29.949398040771484,
          -6.768884181976318,
          -10.237476348876953,
          -22.521146774291992,
          10.630522727966309,
          -36.4691047668457,
          -31.725000381469727,
          1.8870536088943481,
          -15.672102928161621,
          -35.28868103027344,
          27.70210838317871,
          2.9323863983154297,
          -19.524089813232422,
          -29.749711990356445,
          24.876850128173828,
          -10.151081085205078,
          29.384328842163086,
          -27.264259338378906,
          34.062355041503906,
          -2.823054313659668,
          -13.304981231689453,
          -16.611818313598633,
          -11.764911651611328,
          -11.71971321105957,
          -3.6034505367279053,
          -18.99925994873047,
          -30.390174865722656,
          31.352712631225586,
          -9.406497955322266,
          -18.89503288269043,
          24.26288414001465,
          -15.579315185546875,
          -39.77317810058594,
          -21.374122619628906,
          -40.26373291015625,
          28.523727416992188,
          -34.363712310791016,
          39.871055603027344,
          -25.28966522216797,
          0.5782918334007263,
          8.72188663482666,
          -12.650275230407715,
          4.672411918640137,
          -6.521469593048096,
          -6.298656463623047,
          -26.436019897460938,
          12.156425476074219,
          -24.15276336669922,
          -25.5921688079834,
          -28.382333755493164,
          -29.531982421875,
          -13.1232271194458,
          -25.30784797668457,
          6.143870830535889,
          -25.14102554321289,
          -11.571657180786133,
          -12.16154670715332,
          -3.0211472511291504,
          28.717681884765625,
          -44.67375564575195,
          -18.394502639770508,
          21.437917709350586,
          4.267245769500732,
          -15.8057279586792,
          -21.496965408325195,
          -13.52157211303711,
          15.789481163024902,
          -11.95483112335205,
          -12.264179229736328,
          -8.271296501159668,
          10.601282119750977,
          1.958617925643921,
          -36.42533493041992,
          -13.158848762512207,
          3.0969650745391846,
          -33.92555618286133,
          -22.35150909423828,
          40.293251037597656,
          13.93578052520752,
          -14.574682235717773,
          -13.478317260742188,
          -10.766304016113281,
          18.416236877441406
         ],
         "type": "scatter3d"
        }
       ],
       "layout": {
        "template": {
         "data": {
          "histogram2dcontour": [
           {
            "type": "histogram2dcontour",
            "colorbar": {
             "outlinewidth": 0,
             "ticks": ""
            },
            "colorscale": [
             [
              0.0,
              "#0d0887"
             ],
             [
              0.1111111111111111,
              "#46039f"
             ],
             [
              0.2222222222222222,
              "#7201a8"
             ],
             [
              0.3333333333333333,
              "#9c179e"
             ],
             [
              0.4444444444444444,
              "#bd3786"
             ],
             [
              0.5555555555555556,
              "#d8576b"
             ],
             [
              0.6666666666666666,
              "#ed7953"
             ],
             [
              0.7777777777777778,
              "#fb9f3a"
             ],
             [
              0.8888888888888888,
              "#fdca26"
             ],
             [
              1.0,
              "#f0f921"
             ]
            ]
           }
          ],
          "choropleth": [
           {
            "type": "choropleth",
            "colorbar": {
             "outlinewidth": 0,
             "ticks": ""
            }
           }
          ],
          "histogram2d": [
           {
            "type": "histogram2d",
            "colorbar": {
             "outlinewidth": 0,
             "ticks": ""
            },
            "colorscale": [
             [
              0.0,
              "#0d0887"
             ],
             [
              0.1111111111111111,
              "#46039f"
             ],
             [
              0.2222222222222222,
              "#7201a8"
             ],
             [
              0.3333333333333333,
              "#9c179e"
             ],
             [
              0.4444444444444444,
              "#bd3786"
             ],
             [
              0.5555555555555556,
              "#d8576b"
             ],
             [
              0.6666666666666666,
              "#ed7953"
             ],
             [
              0.7777777777777778,
              "#fb9f3a"
             ],
             [
              0.8888888888888888,
              "#fdca26"
             ],
             [
              1.0,
              "#f0f921"
             ]
            ]
           }
          ],
          "heatmap": [
           {
            "type": "heatmap",
            "colorbar": {
             "outlinewidth": 0,
             "ticks": ""
            },
            "colorscale": [
             [
              0.0,
              "#0d0887"
             ],
             [
              0.1111111111111111,
              "#46039f"
             ],
             [
              0.2222222222222222,
              "#7201a8"
             ],
             [
              0.3333333333333333,
              "#9c179e"
             ],
             [
              0.4444444444444444,
              "#bd3786"
             ],
             [
              0.5555555555555556,
              "#d8576b"
             ],
             [
              0.6666666666666666,
              "#ed7953"
             ],
             [
              0.7777777777777778,
              "#fb9f3a"
             ],
             [
              0.8888888888888888,
              "#fdca26"
             ],
             [
              1.0,
              "#f0f921"
             ]
            ]
           }
          ],
          "heatmapgl": [
           {
            "type": "heatmapgl",
            "colorbar": {
             "outlinewidth": 0,
             "ticks": ""
            },
            "colorscale": [
             [
              0.0,
              "#0d0887"
             ],
             [
              0.1111111111111111,
              "#46039f"
             ],
             [
              0.2222222222222222,
              "#7201a8"
             ],
             [
              0.3333333333333333,
              "#9c179e"
             ],
             [
              0.4444444444444444,
              "#bd3786"
             ],
             [
              0.5555555555555556,
              "#d8576b"
             ],
             [
              0.6666666666666666,
              "#ed7953"
             ],
             [
              0.7777777777777778,
              "#fb9f3a"
             ],
             [
              0.8888888888888888,
              "#fdca26"
             ],
             [
              1.0,
              "#f0f921"
             ]
            ]
           }
          ],
          "contourcarpet": [
           {
            "type": "contourcarpet",
            "colorbar": {
             "outlinewidth": 0,
             "ticks": ""
            }
           }
          ],
          "contour": [
           {
            "type": "contour",
            "colorbar": {
             "outlinewidth": 0,
             "ticks": ""
            },
            "colorscale": [
             [
              0.0,
              "#0d0887"
             ],
             [
              0.1111111111111111,
              "#46039f"
             ],
             [
              0.2222222222222222,
              "#7201a8"
             ],
             [
              0.3333333333333333,
              "#9c179e"
             ],
             [
              0.4444444444444444,
              "#bd3786"
             ],
             [
              0.5555555555555556,
              "#d8576b"
             ],
             [
              0.6666666666666666,
              "#ed7953"
             ],
             [
              0.7777777777777778,
              "#fb9f3a"
             ],
             [
              0.8888888888888888,
              "#fdca26"
             ],
             [
              1.0,
              "#f0f921"
             ]
            ]
           }
          ],
          "surface": [
           {
            "type": "surface",
            "colorbar": {
             "outlinewidth": 0,
             "ticks": ""
            },
            "colorscale": [
             [
              0.0,
              "#0d0887"
             ],
             [
              0.1111111111111111,
              "#46039f"
             ],
             [
              0.2222222222222222,
              "#7201a8"
             ],
             [
              0.3333333333333333,
              "#9c179e"
             ],
             [
              0.4444444444444444,
              "#bd3786"
             ],
             [
              0.5555555555555556,
              "#d8576b"
             ],
             [
              0.6666666666666666,
              "#ed7953"
             ],
             [
              0.7777777777777778,
              "#fb9f3a"
             ],
             [
              0.8888888888888888,
              "#fdca26"
             ],
             [
              1.0,
              "#f0f921"
             ]
            ]
           }
          ],
          "mesh3d": [
           {
            "type": "mesh3d",
            "colorbar": {
             "outlinewidth": 0,
             "ticks": ""
            }
           }
          ],
          "scatter": [
           {
            "fillpattern": {
             "fillmode": "overlay",
             "size": 10,
             "solidity": 0.2
            },
            "type": "scatter"
           }
          ],
          "parcoords": [
           {
            "type": "parcoords",
            "line": {
             "colorbar": {
              "outlinewidth": 0,
              "ticks": ""
             }
            }
           }
          ],
          "scatterpolargl": [
           {
            "type": "scatterpolargl",
            "marker": {
             "colorbar": {
              "outlinewidth": 0,
              "ticks": ""
             }
            }
           }
          ],
          "bar": [
           {
            "error_x": {
             "color": "#2a3f5f"
            },
            "error_y": {
             "color": "#2a3f5f"
            },
            "marker": {
             "line": {
              "color": "#E5ECF6",
              "width": 0.5
             },
             "pattern": {
              "fillmode": "overlay",
              "size": 10,
              "solidity": 0.2
             }
            },
            "type": "bar"
           }
          ],
          "scattergeo": [
           {
            "type": "scattergeo",
            "marker": {
             "colorbar": {
              "outlinewidth": 0,
              "ticks": ""
             }
            }
           }
          ],
          "scatterpolar": [
           {
            "type": "scatterpolar",
            "marker": {
             "colorbar": {
              "outlinewidth": 0,
              "ticks": ""
             }
            }
           }
          ],
          "histogram": [
           {
            "marker": {
             "pattern": {
              "fillmode": "overlay",
              "size": 10,
              "solidity": 0.2
             }
            },
            "type": "histogram"
           }
          ],
          "scattergl": [
           {
            "type": "scattergl",
            "marker": {
             "colorbar": {
              "outlinewidth": 0,
              "ticks": ""
             }
            }
           }
          ],
          "scatter3d": [
           {
            "type": "scatter3d",
            "line": {
             "colorbar": {
              "outlinewidth": 0,
              "ticks": ""
             }
            },
            "marker": {
             "colorbar": {
              "outlinewidth": 0,
              "ticks": ""
             }
            }
           }
          ],
          "scattermapbox": [
           {
            "type": "scattermapbox",
            "marker": {
             "colorbar": {
              "outlinewidth": 0,
              "ticks": ""
             }
            }
           }
          ],
          "scatterternary": [
           {
            "type": "scatterternary",
            "marker": {
             "colorbar": {
              "outlinewidth": 0,
              "ticks": ""
             }
            }
           }
          ],
          "scattercarpet": [
           {
            "type": "scattercarpet",
            "marker": {
             "colorbar": {
              "outlinewidth": 0,
              "ticks": ""
             }
            }
           }
          ],
          "carpet": [
           {
            "aaxis": {
             "endlinecolor": "#2a3f5f",
             "gridcolor": "white",
             "linecolor": "white",
             "minorgridcolor": "white",
             "startlinecolor": "#2a3f5f"
            },
            "baxis": {
             "endlinecolor": "#2a3f5f",
             "gridcolor": "white",
             "linecolor": "white",
             "minorgridcolor": "white",
             "startlinecolor": "#2a3f5f"
            },
            "type": "carpet"
           }
          ],
          "table": [
           {
            "cells": {
             "fill": {
              "color": "#EBF0F8"
             },
             "line": {
              "color": "white"
             }
            },
            "header": {
             "fill": {
              "color": "#C8D4E3"
             },
             "line": {
              "color": "white"
             }
            },
            "type": "table"
           }
          ],
          "barpolar": [
           {
            "marker": {
             "line": {
              "color": "#E5ECF6",
              "width": 0.5
             },
             "pattern": {
              "fillmode": "overlay",
              "size": 10,
              "solidity": 0.2
             }
            },
            "type": "barpolar"
           }
          ],
          "pie": [
           {
            "automargin": true,
            "type": "pie"
           }
          ]
         },
         "layout": {
          "autotypenumbers": "strict",
          "colorway": [
           "#636efa",
           "#EF553B",
           "#00cc96",
           "#ab63fa",
           "#FFA15A",
           "#19d3f3",
           "#FF6692",
           "#B6E880",
           "#FF97FF",
           "#FECB52"
          ],
          "font": {
           "color": "#2a3f5f"
          },
          "hovermode": "closest",
          "hoverlabel": {
           "align": "left"
          },
          "paper_bgcolor": "white",
          "plot_bgcolor": "#E5ECF6",
          "polar": {
           "bgcolor": "#E5ECF6",
           "angularaxis": {
            "gridcolor": "white",
            "linecolor": "white",
            "ticks": ""
           },
           "radialaxis": {
            "gridcolor": "white",
            "linecolor": "white",
            "ticks": ""
           }
          },
          "ternary": {
           "bgcolor": "#E5ECF6",
           "aaxis": {
            "gridcolor": "white",
            "linecolor": "white",
            "ticks": ""
           },
           "baxis": {
            "gridcolor": "white",
            "linecolor": "white",
            "ticks": ""
           },
           "caxis": {
            "gridcolor": "white",
            "linecolor": "white",
            "ticks": ""
           }
          },
          "coloraxis": {
           "colorbar": {
            "outlinewidth": 0,
            "ticks": ""
           }
          },
          "colorscale": {
           "sequential": [
            [
             0.0,
             "#0d0887"
            ],
            [
             0.1111111111111111,
             "#46039f"
            ],
            [
             0.2222222222222222,
             "#7201a8"
            ],
            [
             0.3333333333333333,
             "#9c179e"
            ],
            [
             0.4444444444444444,
             "#bd3786"
            ],
            [
             0.5555555555555556,
             "#d8576b"
            ],
            [
             0.6666666666666666,
             "#ed7953"
            ],
            [
             0.7777777777777778,
             "#fb9f3a"
            ],
            [
             0.8888888888888888,
             "#fdca26"
            ],
            [
             1.0,
             "#f0f921"
            ]
           ],
           "sequentialminus": [
            [
             0.0,
             "#0d0887"
            ],
            [
             0.1111111111111111,
             "#46039f"
            ],
            [
             0.2222222222222222,
             "#7201a8"
            ],
            [
             0.3333333333333333,
             "#9c179e"
            ],
            [
             0.4444444444444444,
             "#bd3786"
            ],
            [
             0.5555555555555556,
             "#d8576b"
            ],
            [
             0.6666666666666666,
             "#ed7953"
            ],
            [
             0.7777777777777778,
             "#fb9f3a"
            ],
            [
             0.8888888888888888,
             "#fdca26"
            ],
            [
             1.0,
             "#f0f921"
            ]
           ],
           "diverging": [
            [
             0,
             "#8e0152"
            ],
            [
             0.1,
             "#c51b7d"
            ],
            [
             0.2,
             "#de77ae"
            ],
            [
             0.3,
             "#f1b6da"
            ],
            [
             0.4,
             "#fde0ef"
            ],
            [
             0.5,
             "#f7f7f7"
            ],
            [
             0.6,
             "#e6f5d0"
            ],
            [
             0.7,
             "#b8e186"
            ],
            [
             0.8,
             "#7fbc41"
            ],
            [
             0.9,
             "#4d9221"
            ],
            [
             1,
             "#276419"
            ]
           ]
          },
          "xaxis": {
           "gridcolor": "white",
           "linecolor": "white",
           "ticks": "",
           "title": {
            "standoff": 15
           },
           "zerolinecolor": "white",
           "automargin": true,
           "zerolinewidth": 2
          },
          "yaxis": {
           "gridcolor": "white",
           "linecolor": "white",
           "ticks": "",
           "title": {
            "standoff": 15
           },
           "zerolinecolor": "white",
           "automargin": true,
           "zerolinewidth": 2
          },
          "scene": {
           "xaxis": {
            "backgroundcolor": "#E5ECF6",
            "gridcolor": "white",
            "linecolor": "white",
            "showbackground": true,
            "ticks": "",
            "zerolinecolor": "white",
            "gridwidth": 2
           },
           "yaxis": {
            "backgroundcolor": "#E5ECF6",
            "gridcolor": "white",
            "linecolor": "white",
            "showbackground": true,
            "ticks": "",
            "zerolinecolor": "white",
            "gridwidth": 2
           },
           "zaxis": {
            "backgroundcolor": "#E5ECF6",
            "gridcolor": "white",
            "linecolor": "white",
            "showbackground": true,
            "ticks": "",
            "zerolinecolor": "white",
            "gridwidth": 2
           }
          },
          "shapedefaults": {
           "line": {
            "color": "#2a3f5f"
           }
          },
          "annotationdefaults": {
           "arrowcolor": "#2a3f5f",
           "arrowhead": 0,
           "arrowwidth": 1
          },
          "geo": {
           "bgcolor": "white",
           "landcolor": "#E5ECF6",
           "subunitcolor": "white",
           "showland": true,
           "showlakes": true,
           "lakecolor": "white"
          },
          "title": {
           "x": 0.05
          },
          "mapbox": {
           "style": "light"
          }
         }
        },
        "scene": {
         "domain": {
          "x": [
           0.0,
           1.0
          ],
          "y": [
           0.0,
           1.0
          ]
         },
         "xaxis": {
          "title": {
           "text": "x"
          }
         },
         "yaxis": {
          "title": {
           "text": "y"
          }
         },
         "zaxis": {
          "title": {
           "text": "z"
          }
         }
        },
        "legend": {
         "tracegroupgap": 0
        },
        "margin": {
         "t": 60
        }
       },
       "config": {
        "plotlyServerURL": "https://plot.ly"
       }
      },
      "text/html": [
       "<div>                            <div id=\"95c82483-0e0f-4a40-9c2d-b801fabf03f4\" class=\"plotly-graph-div\" style=\"height:525px; width:100%;\"></div>            <script type=\"text/javascript\">                require([\"plotly\"], function(Plotly) {                    window.PLOTLYENV=window.PLOTLYENV || {};                                    if (document.getElementById(\"95c82483-0e0f-4a40-9c2d-b801fabf03f4\")) {                    Plotly.newPlot(                        \"95c82483-0e0f-4a40-9c2d-b801fabf03f4\",                        [{\"hovertemplate\":\"x=%{x}\\u003cbr\\u003ey=%{y}\\u003cbr\\u003ez=%{z}\\u003cbr\\u003etext=%{text}\\u003cextra\\u003e\\u003c\\u002fextra\\u003e\",\"legendgroup\":\"\",\"marker\":{\"color\":\"#636efa\",\"symbol\":\"circle\",\"size\":2},\"mode\":\"markers+text\",\"name\":\"\",\"scene\":\"scene\",\"showlegend\":false,\"text\":[\"the\",\"to\",\"i\",\"and\",\"a\",\"it\",\"of\",\"is\",\"for\",\"this\",\"you\",\"that\",\"my\",\"in\",\"with\",\"have\",\"on\",\"not\",\"was\",\"but\",\"as\",\"software\",\"be\",\"so\",\"are\",\"product\",\"if\",\"use\",\"all\",\"from\",\"program\",\"or\",\"me\",\"had\",\"your\",\"they\",\"can\",\"do\",\"an\",\"will\",\"version\",\"very\",\"no\",\"at\",\"one\",\"get\",\"just\",\"would\",\"up\",\"has\",\"time\",\"like\",\"windows\",\"when\",\"more\",\"computer\",\"there\",\"great\",\"what\",\"out\",\"been\",\"work\",\"good\",\"used\",\"new\",\"only\",\"years\",\"using\",\"it's\",\"easy\",\"some\",\"which\",\"than\",\"other\",\"about\",\"after\",\"don't\",\"am\",\"now\",\"by\",\"their\",\"any\",\"then\",\"well\",\"even\",\"does\",\"also\",\"because\",\"much\",\"year\",\"them\",\"did\",\"support\",\"quicken\",\"i've\",\"i'm\",\"works\",\"really\",\"need\",\"many\",\"could\",\"how\",\"install\",\"back\",\"tax\",\"still\",\"over\",\"way\",\"we\",\"want\",\"buy\",\"better\",\"download\",\"money\",\"problem\",\"first\",\"find\",\"make\",\"mac\",\"since\",\"system\",\"2\",\"go\",\"user\",\"upgrade\",\"were\",\"amazon\",\"problems\",\"1\",\"price\",\"old\",\"pc\",\"3\",\"never\",\"norton\",\"microsoft\",\"into\",\"bought\",\"got\",\"file\",\"7\",\"help\",\"its\",\"free\",\"again\",\"able\",\"most\",\"know\",\"before\",\"10\",\"found\",\"features\",\"same\",\"installed\",\"every\",\"tried\",\"5\",\"who\",\"without\",\"can't\",\"office\",\"too\",\"8\",\"love\",\"best\",\"recommend\",\"through\",\"lot\",\"files\",\"should\",\"another\",\"data\",\"see\",\"update\",\"few\",\"programs\",\"didn't\",\"game\",\"two\",\"think\",\"doesn't\",\"worked\",\"video\",\"purchased\",\"turbotax\",\"far\",\"everything\",\"home\",\"run\",\"little\",\"try\",\"however\",\"things\",\"these\",\"while\",\"down\",\"business\",\"always\",\"4\",\"purchase\",\"online\",\"hard\",\"say\",\"several\",\"different\",\"off\",\"drive\",\"going\",\"customer\",\"right\",\"word\",\"something\",\"xp\",\"having\",\"last\",\"where\",\"service\",\"internet\",\"people\",\"pro\",\"return\",\"running\",\"made\",\"take\",\"bit\",\"our\",\"give\",\"sure\",\"security\",\"state\",\"once\",\"thing\",\"working\",\"needed\",\"fine\",\"products\",\"own\",\"trying\",\"simple\",\"each\",\"seems\",\"read\",\"may\",\"long\",\"hours\",\"being\",\"getting\",\"cd\",\"start\",\"intuit\",\"information\",\"both\",\"issues\",\"learn\",\"versions\",\"why\",\"screen\",\"he\",\"those\",\"though\",\"keep\",\"times\",\"learning\",\"ever\",\"taxes\",\"etc\",\"worth\",\"laptop\",\"reviews\",\"done\",\"turbo\",\"set\",\"virus\",\"company\",\"feature\",\"said\",\"vista\",\"took\",\"pay\",\"review\",\"day\",\"os\",\"installation\",\"interface\",\"days\",\"less\",\"look\",\"e\",\"dvd\",\"went\",\"looking\",\"anything\",\"nothing\",\"computers\",\"available\",\"such\",\"doing\",\"makes\",\"next\",\"nice\",\"actually\",\"yet\",\"number\",\"happy\",\"wanted\",\"pretty\",\"around\",\"bad\",\"previous\",\"open\",\"put\",\"until\",\"full\",\"process\",\"already\",\"excellent\",\"won't\",\"tech\",\"users\",\"account\",\"here\",\"web\",\"finally\",\"thought\",\"updates\",\"issue\",\"cannot\",\"copy\",\"card\",\"minutes\",\"enough\",\"play\",\"key\",\"save\",\"phone\",\"music\",\"app\",\"website\",\"downloaded\",\"came\",\"6\",\"desktop\",\"job\",\"email\",\"create\",\"fast\",\"least\",\"change\",\"needs\",\"you're\",\"experience\",\"anyone\",\"add\",\"must\",\"editing\",\"r\",\"basic\",\"easier\",\"fix\",\"access\",\"error\",\"line\",\"three\",\"box\",\"past\",\"h\",\"refund\",\"ago\",\"ms\",\"block\",\"instead\",\"that's\",\"end\",\"older\",\"slow\",\"print\",\"highly\",\"started\",\"disk\",\"fun\",\"us\",\"cost\",\"package\",\"games\",\"0\",\"come\",\"she\",\"small\",\"quite\",\"let\",\"site\",\"complete\",\"probably\",\"almost\",\"tool\",\"link\",\"either\",\"order\",\"machine\",\"backup\"],\"x\":[11.195993423461914,18.682647705078125,15.857318878173828,14.138442993164062,-1.2835949659347534,9.685909271240234,7.645809173583984,4.621849060058594,8.211111068725586,24.6536808013916,1.4002196788787842,14.141605377197266,12.659196853637695,10.72616958618164,12.993693351745605,18.403785705566406,12.552145957946777,13.697452545166016,8.757802963256836,13.9669189453125,4.275461673736572,19.70301055908203,2.8040049076080322,14.285590171813965,-6.170892238616943,-0.14235752820968628,3.0772104263305664,10.537248611450195,0.2232760339975357,10.663476943969727,8.83057689666748,10.242597579956055,4.423413276672363,22.08984375,8.180916786193848,1.6068193912506104,18.710243225097656,2.3812291622161865,12.94705867767334,17.51951789855957,31.71213722229004,-5.713261604309082,16.049760818481445,-0.23135986924171448,11.632253646850586,0.925747811794281,12.347844123840332,16.36526107788086,16.654155731201172,22.857120513916016,-2.6441104412078857,10.780867576599121,39.835018157958984,13.879682540893555,-2.466015577316284,5.357672691345215,7.972320079803467,5.50146484375,6.225627899169922,-8.182233810424805,1.1904789209365845,29.414487838745117,4.883738994598389,27.608129501342773,12.304875373840332,13.012027740478516,7.130331993103027,21.83411407470703,3.2984800338745117,-11.002269744873047,-6.330935955047607,17.531757354736328,-0.9827699065208435,-6.346939563751221,11.176518440246582,6.9552741050720215,17.56985092163086,-11.077825546264648,15.52748966217041,10.792694091796875,4.671052932739258,14.077646255493164,14.129617691040039,-7.807910442352295,1.050047516822815,15.762978553771973,10.509590148925781,11.916157722473145,-2.4507157802581787,6.711548328399658,0.7952812314033508,16.28196907043457,-9.548340797424316,27.159507751464844,22.150867462158203,-11.060393333435059,14.921067237854004,-0.0990801453590393,1.9005452394485474,-5.995995044708252,17.039827346801758,-2.7575035095214844,38.631935119628906,11.437177658081055,-1.9588335752487183,14.399911880493164,13.092093467712402,-7.533361911773682,17.424596786499023,1.1178550720214844,-1.9019818305969238,-2.3793649673461914,37.57891845703125,-5.592188358306885,9.760828971862793,11.856863975524902,0.43756338953971863,-2.281524419784546,35.614288330078125,23.757911682128906,35.991241455078125,23.167877197265625,-0.10304555296897888,21.54570960998535,16.6825008392334,9.918342590332031,-2.0032782554626465,21.53072738647461,21.766082763671875,11.919965744018555,24.319921493530273,40.465885162353516,23.335376739501953,19.61598014831543,30.902204513549805,16.710689544677734,8.169474601745605,20.020856857299805,15.471205711364746,27.72068977355957,38.494510650634766,-5.122373104095459,12.130287170410156,25.22580909729004,15.209054946899414,32.8588981628418,1.002779245376587,-7.035722255706787,13.467081069946289,38.46168899536133,16.53656768798828,-1.9807618856430054,3.355910062789917,36.66168975830078,12.591724395751953,29.227397918701172,24.23626136779785,-31.425260543823242,12.272808074951172,17.8765926361084,27.192672729492188,-9.782907485961914,38.74502944946289,-34.73117446899414,9.268708229064941,-0.9246787428855896,7.914083003997803,-7.563701629638672,27.076190948486328,15.911721229553223,12.865978240966797,28.7939395904541,-4.613259792327881,29.2364501953125,12.357464790344238,29.34676170349121,17.22880744934082,-40.575748443603516,12.531392097473145,4.8174567222595215,17.383670806884766,16.365928649902344,14.130880355834961,19.84263038635254,20.60717010498047,-4.711480140686035,20.662281036376953,18.386459350585938,29.440567016601562,-10.912137985229492,2.322390556335449,14.025946617126465,-11.411314010620117,-5.9872260093688965,-11.47244644165039,16.510826110839844,14.64548110961914,22.15458869934082,23.67344856262207,-2.071058988571167,7.0184502601623535,22.894886016845703,3.4327714443206787,11.863081932067871,-5.371401786804199,8.473526954650879,26.898881912231445,0.06515824794769287,-11.181524276733398,-9.872498512268066,22.442039489746094,0.0007157623185776174,40.262630462646484,20.64613151550293,12.050768852233887,6.403960704803467,-11.066801071166992,33.47653579711914,-18.733322143554688,31.54299545288086,12.293648719787598,40.005767822265625,13.335251808166504,-26.7331600189209,0.2785530090332031,-1.3130302429199219,-0.11734640598297119,0.5809622406959534,34.39611053466797,13.366462707519531,13.669586181640625,3.9068491458892822,19.04132080078125,15.018518447875977,39.48819351196289,22.566509246826172,-0.8133270144462585,29.345558166503906,-5.913819789886475,8.793663024902344,15.972896575927734,-3.6643261909484863,16.172840118408203,-15.633077621459961,9.591689109802246,20.60512351989746,10.546113014221191,17.18707847595215,17.78797721862793,-3.4477458000183105,5.569892406463623,12.594611167907715,21.644376754760742,-28.073989868164062,35.48126983642578,6.21911096572876,-11.327585220336914,-35.945377349853516,-19.041383743286133,14.09888744354248,1.1503945589065552,23.18195915222168,-26.041532516479492,19.148162841796875,-25.285511016845703,6.811812877655029,3.9010226726531982,14.245837211608887,-22.104310989379883,10.648632049560547,21.840282440185547,19.528305053710938,30.56899070739746,-3.64119029045105,22.179758071899414,-0.5995264649391174,40.0749397277832,8.28219985961914,12.733306884765625,-9.293059349060059,9.24833869934082,39.27796173095703,27.58139991760254,-3.628847360610962,9.590206146240234,-0.968754768371582,-2.8572897911071777,1.7059985399246216,17.712173461914062,30.000015258789062,-36.66217803955078,5.063297271728516,9.007177352905273,41.91825485229492,17.844301223754883,5.219871997833252,-5.227909564971924,16.169248580932617,13.021992683410645,-5.720978736877441,13.940149307250977,16.765695571899414,3.7813832759857178,-24.193960189819336,3.3764045238494873,-4.515878677368164,-11.668269157409668,5.550259113311768,29.58742332458496,26.573436737060547,-0.030523644760251045,15.264839172363281,13.097024917602539,10.8369722366333,18.41992950439453,9.97335433959961,18.194185256958008,-10.4528169631958,23.938812255859375,3.2033231258392334,-2.0579912662506104,36.754268646240234,15.956941604614258,9.743169784545898,33.429080963134766,9.66018009185791,18.137374877929688,27.53912925720215,7.030770301818848,10.511653900146484,-0.9062025547027588,-25.60430335998535,38.724361419677734,22.77323341369629,0.4737686514854431,1.005035161972046,23.526037216186523,3.9598376750946045,31.0789737701416,28.80225372314453,24.401538848876953,40.29413604736328,2.544985771179199,-2.0113158226013184,17.0798397064209,-5.63212776184082,5.398608684539795,16.26911163330078,8.31017780303955,1.7007277011871338,-14.600699424743652,-5.615908622741699,20.419668197631836,16.81758689880371,9.513097763061523,-3.018756151199341,15.779204368591309,-3.239189863204956,33.404693603515625,32.0481071472168,36.72075653076172,-1.3827481269836426,12.429356575012207,8.582075119018555,14.599206924438477,-2.9106907844543457,9.452397346496582,7.719784736633301,26.419797897338867,-3.0578041076660156,9.43846321105957,6.6096649169921875,-1.7438701391220093,32.075618743896484,0.5636355876922607,22.321386337280273,-2.581629991531372,23.4943790435791,24.49141502380371,-25.586780548095703,-7.500635623931885,11.767226219177246,22.614620208740234,-33.9288215637207,29.586870193481445,1.4921510219573975,-36.00975799560547,0.03825394809246063,-8.87120532989502,1.847335934638977,4.047737121582031,8.245230674743652,5.577584266662598,11.743335723876953,13.5900239944458,-1.4412312507629395,15.97585391998291,37.10948944091797,40.68949890136719,27.044557571411133],\"y\":[3.811724901199341,-12.644109725952148,-3.8200457096099854,-2.906757354736328,2.7391514778137207,-9.44471549987793,7.037809371948242,-25.213977813720703,5.110386848449707,7.574145317077637,-12.40196704864502,-5.787055015563965,1.7510682344436646,3.1217408180236816,-4.4386372566223145,-5.777768611907959,1.7939234972000122,-16.657808303833008,-12.142718315124512,-8.421704292297363,-25.12216567993164,3.5342180728912354,-14.863582611083984,-9.221811294555664,-37.206172943115234,3.1047632694244385,-11.738642692565918,-13.098207473754883,-9.894834518432617,6.072538375854492,-16.230501174926758,4.106151580810547,-4.006110668182373,-4.519322395324707,2.9563446044921875,-0.3447040319442749,-12.505827903747559,-12.130056381225586,4.953847408294678,-12.840825080871582,21.137802124023438,-37.757843017578125,-23.564836502075195,0.8561369180679321,6.83217191696167,-9.127741813659668,-6.604801177978516,-12.011489868164062,-25.672008514404297,0.8981408476829529,5.721468448638916,-13.521695137023926,3.33772611618042,-1.501658320426941,-42.69139862060547,-4.854005336761475,-36.01365280151367,-25.387296676635742,-11.053196907043457,-9.42534351348877,26.529813766479492,-13.946294784545898,-25.578866958618164,13.011955261230469,2.5282509326934814,-5.075210094451904,29.999671936035156,2.0348589420318604,-24.798185348510742,-37.68781661987305,-37.22902297973633,-2.546135902404785,-44.44779968261719,-37.92168045043945,12.190567970275879,3.5894477367401123,-10.759578704833984,-34.49453353881836,2.0216267108917236,2.331486940383911,13.357962608337402,-24.014192581176758,-2.108135223388672,-38.828250885009766,-12.566638946533203,-17.67706871032715,-11.984328269958496,-6.769335746765137,-42.79136657714844,32.2429313659668,-6.40200138092041,-13.337181091308594,18.034391403198242,15.591782569885254,-4.619915008544922,-34.45698165893555,-23.862144470214844,-17.273393630981445,-12.363277435302734,-38.9262809753418,-12.7315034866333,-17.771909713745117,-9.614469528198242,5.822850227355957,18.17650604248047,-9.440163612365723,32.192039489746094,-20.383398056030273,-5.295650959014893,-11.982244491577148,-6.9377546310424805,-42.9051513671875,-9.512768745422363,3.915722608566284,-34.76976013183594,3.561260938644409,-12.573019027709961,-18.36372947692871,6.626383304595947,10.698116302490234,-5.614860534667969,25.826400756835938,0.4228375256061554,3.5739364624023438,15.828544616699219,-25.051105499267578,23.605745315551758,-31.037038803100586,28.256500244140625,18.316726684570312,23.231462478637695,0.2032824158668518,25.801332473754883,-5.3962860107421875,0.0573597177863121,13.39838695526123,2.971719264984131,11.048354148864746,5.383501052856445,-8.586965560913086,7.3508219718933105,2.9441893100738525,9.105534553527832,2.8271031379699707,-1.3393992185592651,-14.340690612792969,-33.165992736816406,-8.037324905395508,-0.5683872103691101,7.978593826293945,-8.91042423248291,-32.79686737060547,4.758829116821289,-0.33458462357521057,0.12234698235988617,-10.755414009094238,25.9493465423584,8.105238914489746,3.090315103530884,-12.743268013000488,15.571796417236328,-42.899845123291016,7.875003814697266,5.577967643737793,-24.831985473632812,-2.751570224761963,-1.6294223070144653,-39.3082160949707,-6.188877105712891,-12.504838943481445,1.3933902978897095,-2.8413045406341553,-9.864391326904297,-4.323241710662842,33.75308609008789,-3.2536935806274414,-12.671911239624023,10.23480224609375,33.690242767333984,-10.047844886779785,-14.464049339294434,-23.26357650756836,7.0841522216796875,11.014554023742676,14.123448371887207,-45.20473098754883,-12.664619445800781,19.461633682250977,-12.79281234741211,-43.10246276855469,-7.211571216583252,-8.042840957641602,-26.983013153076172,-38.743568420410156,-2.0103023052215576,-25.75799560546875,21.104564666748047,-0.8438814878463745,25.895069122314453,-5.741560459136963,13.792926788330078,12.850443840026855,-11.273820877075195,34.64448547363281,-38.930885314941406,-0.6714434623718262,14.465030670166016,-7.787088871002197,18.81395721435547,-1.629604697227478,-3.172004222869873,-11.108981132507324,3.234553813934326,-7.33439302444458,29.6055908203125,-5.063981533050537,18.9069766998291,-4.208869934082031,2.236783504486084,21.048246383666992,19.761676788330078,0.39046037197113037,-8.78763484954834,-21.4951114654541,-45.12653350830078,11.67229175567627,-5.74718713760376,-10.68756103515625,2.986276149749756,20.12553596496582,-1.6832610368728638,-33.94828796386719,-16.278390884399414,-5.4493184089660645,-2.795243740081787,7.5387492179870605,12.660269737243652,-15.35702896118164,-32.206058502197266,4.035007953643799,-16.136457443237305,-6.335026264190674,-12.857447624206543,-9.94298267364502,38.184295654296875,-10.330636978149414,-1.0000702142715454,13.65543270111084,-22.690183639526367,19.512998580932617,31.002965927124023,4.218939304351807,-31.035993576049805,-13.903318405151367,18.54701805114746,-11.023832321166992,-12.033064842224121,16.827655792236328,-2.553189754486084,-7.359628677368164,-5.790594100952148,-29.780685424804688,-30.222326278686523,-5.967389106750488,18.651504516601562,1.9915651082992554,-4.70164680480957,36.5410270690918,3.9178102016448975,-9.551873207092285,15.169281959533691,-24.412179946899414,-26.874557495117188,20.00478744506836,0.7134416103363037,13.345468521118164,2.9941067695617676,34.005130767822266,21.414020538330078,2.4677021503448486,35.582489013671875,5.642431259155273,-11.187400817871094,-35.93265151977539,37.96345901489258,-44.375064849853516,-9.724906921386719,32.86106872558594,13.138287544250488,-8.69146728515625,-1.2439954280853271,-14.698862075805664,-15.103225708007812,5.589984893798828,1.501221776008606,-25.531877517700195,-5.0538554191589355,-19.133623123168945,1.2538585662841797,-32.63550567626953,-10.010735511779785,-8.611605644226074,9.034225463867188,-16.19852066040039,-7.701387882232666,-38.52705383300781,-2.3110103607177734,-27.017263412475586,7.265257835388184,-10.486676216125488,-0.5481235384941101,4.7385406494140625,6.707329273223877,-12.05260181427002,-5.741916656494141,-27.7612247467041,-13.181269645690918,17.64440155029297,7.833935260772705,27.385868072509766,-8.600282669067383,-0.9788106679916382,1.567012071609497,-5.731900691986084,-17.40568733215332,-34.712745666503906,-13.30562973022461,-7.44179105758667,25.141862869262695,37.32596206665039,-17.52655601501465,-22.672883987426758,-17.018871307373047,-10.350067138671875,11.319937705993652,12.655281066894531,-1.9418246746063232,21.02391242980957,-4.301693439483643,-7.355105876922607,25.788829803466797,0.38604429364204407,-24.50609016418457,19.092763900756836,-9.124871253967285,-43.042518615722656,32.372982025146484,-12.966988563537598,-9.301426887512207,-8.641712188720703,-24.829355239868164,-1.387705683708191,-9.634249687194824,-12.123208045959473,3.0889177322387695,27.268835067749023,11.854044914245605,-40.96503448486328,-14.426539421081543,-9.645445823669434,-18.311321258544922,2.680248498916626,33.71980285644531,14.15078353881836,12.052858352661133,27.13043785095215,20.164291381835938,29.97446632385254,14.414719581604004,27.177568435668945,5.942694664001465,-4.295626640319824,-2.491417407989502,8.745420455932617,-44.94342041015625,-9.785686492919922,-0.5179204344749451,-13.978226661682129,13.794201850891113,-32.78798294067383,-4.6494526863098145,24.517026901245117,5.2798237800598145,-4.687237739562988,25.68840980529785,-9.30445671081543,16.69640350341797,14.21061897277832,-44.333003997802734,-8.228687286376953,21.03434944152832,2.7870726585388184,-10.102778434753418,5.289987087249756,-5.625577926635742,19.623497009277344,-6.93415641784668,-9.771515846252441,0.8242030739784241,-2.16536021232605],\"z\":[5.667681694030762,-33.40093231201172,-35.09108352661133,-12.477213859558105,0.2332647740840912,-27.869291305541992,7.2302398681640625,-26.236780166625977,4.251898765563965,-17.46590805053711,-38.52851104736328,-14.269274711608887,2.2254021167755127,5.489577770233154,-7.6265668869018555,-32.0885124206543,2.424515724182129,-32.24585723876953,-26.7485408782959,-25.0828914642334,-26.515592575073242,-12.48562240600586,-33.64348602294922,-27.188739776611328,13.711371421813965,-43.83114242553711,-39.11262893676758,-8.756474494934082,-4.424777030944824,2.7687418460845947,-18.79005241394043,9.466654777526855,-31.752330780029297,-23.745786666870117,9.675422668457031,-33.59436798095703,-33.484474182128906,-37.82462692260742,5.162431716918945,-35.118587493896484,-11.75759220123291,-9.605679512023926,-14.987485885620117,0.45176276564598083,-20.139835357666016,-34.55527114868164,-27.591135025024414,-35.997093200683594,19.33247947692871,-5.924374103546143,-15.763066291809082,-15.835660934448242,-10.09589958190918,-25.914289474487305,9.381586074829102,-3.0253794193267822,-9.029681205749512,-29.590620040893555,-31.837160110473633,2.742650270462036,-34.543453216552734,23.527149200439453,-28.145296096801758,-17.83830451965332,2.503047466278076,-23.225547790527344,-30.890451431274414,-25.184850692749023,-26.871257781982422,-12.47989559173584,13.828248977661133,-12.510568618774414,9.604875564575195,18.077939987182617,-23.582826614379883,-25.281278610229492,-35.09975814819336,-20.308605194091797,-29.94725227355957,4.81794548034668,-12.239228248596191,-6.7435407638549805,-24.862403869628906,-11.444445610046387,-35.071590423583984,-33.67177200317383,-14.445505142211914,-24.929542541503906,7.483552932739258,-30.05748176574707,-19.454904556274414,-37.02741241455078,-29.03230094909668,-15.377179145812988,-33.44319534301758,-20.383140563964844,-28.82413101196289,-28.79657745361328,-38.279300689697266,18.320632934570312,-35.537010192871094,-30.70884132385254,-8.350497245788574,-35.514915466308594,-13.240370750427246,-27.192331314086914,-26.256650924682617,-12.743307113647461,-32.95216751098633,-39.389259338378906,-41.71583557128906,9.223155975341797,-15.042242050170898,-19.124591827392578,-15.662789344787598,-30.344806671142578,-34.2556266784668,-35.88974380493164,-8.18433666229248,-19.392333984375,-2.317533493041992,-11.643482208251953,-18.704994201660156,-5.144596099853516,-27.19331932067871,-6.6335320472717285,-23.85095977783203,-10.18315601348877,-11.376984596252441,-35.21993637084961,-7.70706844329834,-3.735628604888916,-11.67638874053955,-33.41264343261719,-23.60454559326172,-10.97741413116455,9.769547462463379,-28.604034423828125,-33.313289642333984,20.911771774291992,-11.671201705932617,-33.9242057800293,-2.4841229915618896,-17.93437385559082,-36.59921646118164,-21.792837142944336,8.51596450805664,-36.37067413330078,-26.02004623413086,-11.958965301513672,-26.08367347717285,12.244521141052246,-19.933568954467773,-13.76412296295166,-27.579423904418945,-19.17339324951172,-11.832865715026855,-16.590181350708008,9.211493492126465,-35.32332229614258,-12.4629487991333,3.225959539413452,-11.731895446777344,-11.680047988891602,-24.755598068237305,-44.85893630981445,-13.492415428161621,10.795828819274902,21.923776626586914,-34.9422721862793,-26.387155532836914,21.23980140686035,-32.40978240966797,-15.294833183288574,-25.465444564819336,0.5395519733428955,-36.05039596557617,-4.942416191101074,-26.56171226501465,-33.613895416259766,-35.51460266113281,-27.463254928588867,27.558069229125977,-28.68021011352539,-22.503435134887695,1.560365080833435,-22.715805053710938,-1.8021342754364014,24.8039493560791,3.9433557987213135,-36.69489669799805,-24.476533889770508,12.917623519897461,18.39451789855957,1.973515510559082,19.81722640991211,-4.152251243591309,-26.242055892944336,-11.722672462463379,-40.724124908447266,-12.50671100616455,18.57605743408203,-33.72431945800781,-26.890857696533203,17.876367568969727,-13.310199737548828,21.79551887512207,-32.49518585205078,-28.51673126220703,10.187594413757324,27.91124153137207,-35.37302017211914,-10.545308113098145,-23.85615348815918,-24.421363830566406,-13.110403060913086,-28.208463668823242,5.905712127685547,-33.35133361816406,-5.459013938903809,-27.399818420410156,-10.751142501831055,-24.24760627746582,21.972021102905273,3.5954227447509766,18.437885284423828,-30.522436141967773,-36.522090911865234,-24.88654136657715,-26.03480339050293,-25.582080841064453,-20.067455291748047,-17.98220443725586,-27.161758422851562,-11.596190452575684,-5.538449287414551,22.742298126220703,-20.15682601928711,-10.40921688079834,7.206251621246338,-34.38713455200195,-21.39067840576172,-34.74776077270508,-4.147485256195068,-21.246707916259766,-19.18723487854004,-27.078336715698242,26.301071166992188,25.908145904541016,-26.290525436401367,1.1783913373947144,2.629784345626831,-10.026288032531738,0.38179758191108704,-11.989419937133789,-31.875015258789062,30.107250213623047,-8.348197937011719,-11.903912544250488,-26.96798324584961,-19.43492317199707,-16.08437156677246,4.342545032501221,-31.696928024291992,-16.81437873840332,13.434992790222168,-45.52686309814453,10.900795936584473,-32.30613327026367,-30.01390266418457,-22.33017349243164,25.301239013671875,-6.46636438369751,-25.442853927612305,15.895929336547852,-34.35132598876953,-10.553726196289062,-22.438093185424805,-29.434091567993164,-30.262996673583984,-17.661914825439453,-9.586237907409668,-10.706024169921875,-1.1704444885253906,-19.903118133544922,9.379013061523438,-34.37348937988281,-9.99710464477539,28.70240020751953,-14.629995346069336,-12.568523406982422,-36.71124267578125,-30.99945640563965,1.808747410774231,-8.858159065246582,8.92134952545166,-23.143787384033203,-33.44965744018555,-27.16849708557129,-9.500129699707031,-30.081050872802734,-27.805383682250977,-20.490474700927734,-29.249731063842773,-38.070796966552734,-5.366265296936035,2.4911017417907715,-18.249055862426758,-17.613494873046875,25.64076042175293,-17.657596588134766,-35.40798568725586,6.519658088684082,5.734531402587891,-32.18385314941406,-24.977296829223633,-36.32564163208008,-29.949398040771484,-6.768884181976318,-10.237476348876953,-22.521146774291992,10.630522727966309,-36.4691047668457,-31.725000381469727,1.8870536088943481,-15.672102928161621,-35.28868103027344,27.70210838317871,2.9323863983154297,-19.524089813232422,-29.749711990356445,24.876850128173828,-10.151081085205078,29.384328842163086,-27.264259338378906,34.062355041503906,-2.823054313659668,-13.304981231689453,-16.611818313598633,-11.764911651611328,-11.71971321105957,-3.6034505367279053,-18.99925994873047,-30.390174865722656,31.352712631225586,-9.406497955322266,-18.89503288269043,24.26288414001465,-15.579315185546875,-39.77317810058594,-21.374122619628906,-40.26373291015625,28.523727416992188,-34.363712310791016,39.871055603027344,-25.28966522216797,0.5782918334007263,8.72188663482666,-12.650275230407715,4.672411918640137,-6.521469593048096,-6.298656463623047,-26.436019897460938,12.156425476074219,-24.15276336669922,-25.5921688079834,-28.382333755493164,-29.531982421875,-13.1232271194458,-25.30784797668457,6.143870830535889,-25.14102554321289,-11.571657180786133,-12.16154670715332,-3.0211472511291504,28.717681884765625,-44.67375564575195,-18.394502639770508,21.437917709350586,4.267245769500732,-15.8057279586792,-21.496965408325195,-13.52157211303711,15.789481163024902,-11.95483112335205,-12.264179229736328,-8.271296501159668,10.601282119750977,1.958617925643921,-36.42533493041992,-13.158848762512207,3.0969650745391846,-33.92555618286133,-22.35150909423828,40.293251037597656,13.93578052520752,-14.574682235717773,-13.478317260742188,-10.766304016113281,18.416236877441406],\"type\":\"scatter3d\"}],                        {\"template\":{\"data\":{\"histogram2dcontour\":[{\"type\":\"histogram2dcontour\",\"colorbar\":{\"outlinewidth\":0,\"ticks\":\"\"},\"colorscale\":[[0.0,\"#0d0887\"],[0.1111111111111111,\"#46039f\"],[0.2222222222222222,\"#7201a8\"],[0.3333333333333333,\"#9c179e\"],[0.4444444444444444,\"#bd3786\"],[0.5555555555555556,\"#d8576b\"],[0.6666666666666666,\"#ed7953\"],[0.7777777777777778,\"#fb9f3a\"],[0.8888888888888888,\"#fdca26\"],[1.0,\"#f0f921\"]]}],\"choropleth\":[{\"type\":\"choropleth\",\"colorbar\":{\"outlinewidth\":0,\"ticks\":\"\"}}],\"histogram2d\":[{\"type\":\"histogram2d\",\"colorbar\":{\"outlinewidth\":0,\"ticks\":\"\"},\"colorscale\":[[0.0,\"#0d0887\"],[0.1111111111111111,\"#46039f\"],[0.2222222222222222,\"#7201a8\"],[0.3333333333333333,\"#9c179e\"],[0.4444444444444444,\"#bd3786\"],[0.5555555555555556,\"#d8576b\"],[0.6666666666666666,\"#ed7953\"],[0.7777777777777778,\"#fb9f3a\"],[0.8888888888888888,\"#fdca26\"],[1.0,\"#f0f921\"]]}],\"heatmap\":[{\"type\":\"heatmap\",\"colorbar\":{\"outlinewidth\":0,\"ticks\":\"\"},\"colorscale\":[[0.0,\"#0d0887\"],[0.1111111111111111,\"#46039f\"],[0.2222222222222222,\"#7201a8\"],[0.3333333333333333,\"#9c179e\"],[0.4444444444444444,\"#bd3786\"],[0.5555555555555556,\"#d8576b\"],[0.6666666666666666,\"#ed7953\"],[0.7777777777777778,\"#fb9f3a\"],[0.8888888888888888,\"#fdca26\"],[1.0,\"#f0f921\"]]}],\"heatmapgl\":[{\"type\":\"heatmapgl\",\"colorbar\":{\"outlinewidth\":0,\"ticks\":\"\"},\"colorscale\":[[0.0,\"#0d0887\"],[0.1111111111111111,\"#46039f\"],[0.2222222222222222,\"#7201a8\"],[0.3333333333333333,\"#9c179e\"],[0.4444444444444444,\"#bd3786\"],[0.5555555555555556,\"#d8576b\"],[0.6666666666666666,\"#ed7953\"],[0.7777777777777778,\"#fb9f3a\"],[0.8888888888888888,\"#fdca26\"],[1.0,\"#f0f921\"]]}],\"contourcarpet\":[{\"type\":\"contourcarpet\",\"colorbar\":{\"outlinewidth\":0,\"ticks\":\"\"}}],\"contour\":[{\"type\":\"contour\",\"colorbar\":{\"outlinewidth\":0,\"ticks\":\"\"},\"colorscale\":[[0.0,\"#0d0887\"],[0.1111111111111111,\"#46039f\"],[0.2222222222222222,\"#7201a8\"],[0.3333333333333333,\"#9c179e\"],[0.4444444444444444,\"#bd3786\"],[0.5555555555555556,\"#d8576b\"],[0.6666666666666666,\"#ed7953\"],[0.7777777777777778,\"#fb9f3a\"],[0.8888888888888888,\"#fdca26\"],[1.0,\"#f0f921\"]]}],\"surface\":[{\"type\":\"surface\",\"colorbar\":{\"outlinewidth\":0,\"ticks\":\"\"},\"colorscale\":[[0.0,\"#0d0887\"],[0.1111111111111111,\"#46039f\"],[0.2222222222222222,\"#7201a8\"],[0.3333333333333333,\"#9c179e\"],[0.4444444444444444,\"#bd3786\"],[0.5555555555555556,\"#d8576b\"],[0.6666666666666666,\"#ed7953\"],[0.7777777777777778,\"#fb9f3a\"],[0.8888888888888888,\"#fdca26\"],[1.0,\"#f0f921\"]]}],\"mesh3d\":[{\"type\":\"mesh3d\",\"colorbar\":{\"outlinewidth\":0,\"ticks\":\"\"}}],\"scatter\":[{\"fillpattern\":{\"fillmode\":\"overlay\",\"size\":10,\"solidity\":0.2},\"type\":\"scatter\"}],\"parcoords\":[{\"type\":\"parcoords\",\"line\":{\"colorbar\":{\"outlinewidth\":0,\"ticks\":\"\"}}}],\"scatterpolargl\":[{\"type\":\"scatterpolargl\",\"marker\":{\"colorbar\":{\"outlinewidth\":0,\"ticks\":\"\"}}}],\"bar\":[{\"error_x\":{\"color\":\"#2a3f5f\"},\"error_y\":{\"color\":\"#2a3f5f\"},\"marker\":{\"line\":{\"color\":\"#E5ECF6\",\"width\":0.5},\"pattern\":{\"fillmode\":\"overlay\",\"size\":10,\"solidity\":0.2}},\"type\":\"bar\"}],\"scattergeo\":[{\"type\":\"scattergeo\",\"marker\":{\"colorbar\":{\"outlinewidth\":0,\"ticks\":\"\"}}}],\"scatterpolar\":[{\"type\":\"scatterpolar\",\"marker\":{\"colorbar\":{\"outlinewidth\":0,\"ticks\":\"\"}}}],\"histogram\":[{\"marker\":{\"pattern\":{\"fillmode\":\"overlay\",\"size\":10,\"solidity\":0.2}},\"type\":\"histogram\"}],\"scattergl\":[{\"type\":\"scattergl\",\"marker\":{\"colorbar\":{\"outlinewidth\":0,\"ticks\":\"\"}}}],\"scatter3d\":[{\"type\":\"scatter3d\",\"line\":{\"colorbar\":{\"outlinewidth\":0,\"ticks\":\"\"}},\"marker\":{\"colorbar\":{\"outlinewidth\":0,\"ticks\":\"\"}}}],\"scattermapbox\":[{\"type\":\"scattermapbox\",\"marker\":{\"colorbar\":{\"outlinewidth\":0,\"ticks\":\"\"}}}],\"scatterternary\":[{\"type\":\"scatterternary\",\"marker\":{\"colorbar\":{\"outlinewidth\":0,\"ticks\":\"\"}}}],\"scattercarpet\":[{\"type\":\"scattercarpet\",\"marker\":{\"colorbar\":{\"outlinewidth\":0,\"ticks\":\"\"}}}],\"carpet\":[{\"aaxis\":{\"endlinecolor\":\"#2a3f5f\",\"gridcolor\":\"white\",\"linecolor\":\"white\",\"minorgridcolor\":\"white\",\"startlinecolor\":\"#2a3f5f\"},\"baxis\":{\"endlinecolor\":\"#2a3f5f\",\"gridcolor\":\"white\",\"linecolor\":\"white\",\"minorgridcolor\":\"white\",\"startlinecolor\":\"#2a3f5f\"},\"type\":\"carpet\"}],\"table\":[{\"cells\":{\"fill\":{\"color\":\"#EBF0F8\"},\"line\":{\"color\":\"white\"}},\"header\":{\"fill\":{\"color\":\"#C8D4E3\"},\"line\":{\"color\":\"white\"}},\"type\":\"table\"}],\"barpolar\":[{\"marker\":{\"line\":{\"color\":\"#E5ECF6\",\"width\":0.5},\"pattern\":{\"fillmode\":\"overlay\",\"size\":10,\"solidity\":0.2}},\"type\":\"barpolar\"}],\"pie\":[{\"automargin\":true,\"type\":\"pie\"}]},\"layout\":{\"autotypenumbers\":\"strict\",\"colorway\":[\"#636efa\",\"#EF553B\",\"#00cc96\",\"#ab63fa\",\"#FFA15A\",\"#19d3f3\",\"#FF6692\",\"#B6E880\",\"#FF97FF\",\"#FECB52\"],\"font\":{\"color\":\"#2a3f5f\"},\"hovermode\":\"closest\",\"hoverlabel\":{\"align\":\"left\"},\"paper_bgcolor\":\"white\",\"plot_bgcolor\":\"#E5ECF6\",\"polar\":{\"bgcolor\":\"#E5ECF6\",\"angularaxis\":{\"gridcolor\":\"white\",\"linecolor\":\"white\",\"ticks\":\"\"},\"radialaxis\":{\"gridcolor\":\"white\",\"linecolor\":\"white\",\"ticks\":\"\"}},\"ternary\":{\"bgcolor\":\"#E5ECF6\",\"aaxis\":{\"gridcolor\":\"white\",\"linecolor\":\"white\",\"ticks\":\"\"},\"baxis\":{\"gridcolor\":\"white\",\"linecolor\":\"white\",\"ticks\":\"\"},\"caxis\":{\"gridcolor\":\"white\",\"linecolor\":\"white\",\"ticks\":\"\"}},\"coloraxis\":{\"colorbar\":{\"outlinewidth\":0,\"ticks\":\"\"}},\"colorscale\":{\"sequential\":[[0.0,\"#0d0887\"],[0.1111111111111111,\"#46039f\"],[0.2222222222222222,\"#7201a8\"],[0.3333333333333333,\"#9c179e\"],[0.4444444444444444,\"#bd3786\"],[0.5555555555555556,\"#d8576b\"],[0.6666666666666666,\"#ed7953\"],[0.7777777777777778,\"#fb9f3a\"],[0.8888888888888888,\"#fdca26\"],[1.0,\"#f0f921\"]],\"sequentialminus\":[[0.0,\"#0d0887\"],[0.1111111111111111,\"#46039f\"],[0.2222222222222222,\"#7201a8\"],[0.3333333333333333,\"#9c179e\"],[0.4444444444444444,\"#bd3786\"],[0.5555555555555556,\"#d8576b\"],[0.6666666666666666,\"#ed7953\"],[0.7777777777777778,\"#fb9f3a\"],[0.8888888888888888,\"#fdca26\"],[1.0,\"#f0f921\"]],\"diverging\":[[0,\"#8e0152\"],[0.1,\"#c51b7d\"],[0.2,\"#de77ae\"],[0.3,\"#f1b6da\"],[0.4,\"#fde0ef\"],[0.5,\"#f7f7f7\"],[0.6,\"#e6f5d0\"],[0.7,\"#b8e186\"],[0.8,\"#7fbc41\"],[0.9,\"#4d9221\"],[1,\"#276419\"]]},\"xaxis\":{\"gridcolor\":\"white\",\"linecolor\":\"white\",\"ticks\":\"\",\"title\":{\"standoff\":15},\"zerolinecolor\":\"white\",\"automargin\":true,\"zerolinewidth\":2},\"yaxis\":{\"gridcolor\":\"white\",\"linecolor\":\"white\",\"ticks\":\"\",\"title\":{\"standoff\":15},\"zerolinecolor\":\"white\",\"automargin\":true,\"zerolinewidth\":2},\"scene\":{\"xaxis\":{\"backgroundcolor\":\"#E5ECF6\",\"gridcolor\":\"white\",\"linecolor\":\"white\",\"showbackground\":true,\"ticks\":\"\",\"zerolinecolor\":\"white\",\"gridwidth\":2},\"yaxis\":{\"backgroundcolor\":\"#E5ECF6\",\"gridcolor\":\"white\",\"linecolor\":\"white\",\"showbackground\":true,\"ticks\":\"\",\"zerolinecolor\":\"white\",\"gridwidth\":2},\"zaxis\":{\"backgroundcolor\":\"#E5ECF6\",\"gridcolor\":\"white\",\"linecolor\":\"white\",\"showbackground\":true,\"ticks\":\"\",\"zerolinecolor\":\"white\",\"gridwidth\":2}},\"shapedefaults\":{\"line\":{\"color\":\"#2a3f5f\"}},\"annotationdefaults\":{\"arrowcolor\":\"#2a3f5f\",\"arrowhead\":0,\"arrowwidth\":1},\"geo\":{\"bgcolor\":\"white\",\"landcolor\":\"#E5ECF6\",\"subunitcolor\":\"white\",\"showland\":true,\"showlakes\":true,\"lakecolor\":\"white\"},\"title\":{\"x\":0.05},\"mapbox\":{\"style\":\"light\"}}},\"scene\":{\"domain\":{\"x\":[0.0,1.0],\"y\":[0.0,1.0]},\"xaxis\":{\"title\":{\"text\":\"x\"}},\"yaxis\":{\"title\":{\"text\":\"y\"}},\"zaxis\":{\"title\":{\"text\":\"z\"}}},\"legend\":{\"tracegroupgap\":0},\"margin\":{\"t\":60}},                        {\"responsive\": true}                    ).then(function(){\n",
       "                            \n",
       "var gd = document.getElementById('95c82483-0e0f-4a40-9c2d-b801fabf03f4');\n",
       "var x = new MutationObserver(function (mutations, observer) {{\n",
       "        var display = window.getComputedStyle(gd).display;\n",
       "        if (!display || display === 'none') {{\n",
       "            console.log([gd, 'removed!']);\n",
       "            Plotly.purge(gd);\n",
       "            observer.disconnect();\n",
       "        }}\n",
       "}});\n",
       "\n",
       "// Listen for the removal of the full notebook cells\n",
       "var notebookContainer = gd.closest('#notebook-container');\n",
       "if (notebookContainer) {{\n",
       "    x.observe(notebookContainer, {childList: true});\n",
       "}}\n",
       "\n",
       "// Listen for the clearing of the current output cell\n",
       "var outputEl = gd.closest('.output');\n",
       "if (outputEl) {{\n",
       "    x.observe(outputEl, {childList: true});\n",
       "}}\n",
       "\n",
       "                        })                };                });            </script>        </div>"
      ]
     },
     "metadata": {},
     "output_type": "display_data"
    }
   ],
   "execution_count": 40
  },
  {
   "metadata": {},
   "cell_type": "markdown",
   "source": "En la visualización 3D, se observó que los verbos modales y sus formas negativas quedaron agrupados en el espacio vectorial. Términos como 'can', 'would', 'may', 'should', 'must' y sus contrapartes negativas ('can't', 'don't', 'wouldn't', 'won't', 'cannot') demostraron una organización coherente, lo que indica que el modelo pudo capturar relaciones gramaticales y de uso común en el lenguaje.",
   "id": "2a4d59826505f032"
  },
  {
   "metadata": {},
   "cell_type": "markdown",
   "source": [
    "### Conclusiones\n",
    "A partir de los embeddings obtenidos, se realizaron pruebas de analogía y exploración de vecinos semánticos, arrojando resultados coherentes con la intuición lingüística. Por ejemplo, relaciones como \"good -> excellent :: bad -> horrendous\" o \"user -> password :: license -> keycode\" evidencian que el modelo logró captar correctamente asociaciones de significado y estructuras propias del lenguaje natural.\n",
    "\n",
    "La visualización de los embeddings mediante técnicas de reducción de dimensión (t-SNE, PCA) también permitió verificar agrupamientos lógicos de palabras por tema, lo cual refuerza la calidad semántica de los vectores obtenidos."
   ],
   "id": "276820fb2ab048a7"
  },
  {
   "metadata": {},
   "cell_type": "code",
   "outputs": [],
   "execution_count": null,
   "source": "",
   "id": "d2234142416e929a"
  }
 ],
 "metadata": {
  "kernelspec": {
   "display_name": "Python 3",
   "language": "python",
   "name": "python3"
  },
  "language_info": {
   "codemirror_mode": {
    "name": "ipython",
    "version": 2
   },
   "file_extension": ".py",
   "mimetype": "text/x-python",
   "name": "python",
   "nbconvert_exporter": "python",
   "pygments_lexer": "ipython2",
   "version": "2.7.6"
  }
 },
 "nbformat": 4,
 "nbformat_minor": 5
}
